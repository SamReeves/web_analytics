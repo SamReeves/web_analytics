{
 "cells": [
  {
   "cell_type": "markdown",
   "metadata": {},
   "source": [
    "# Assignment Graph Visualization\n",
    "### DATA 620\n",
    "### Euclid zhang &emsp; David Moste &emsp; Samuel Reeves  \n",
    "### 6/3/2021"
   ]
  },
  {
   "cell_type": "markdown",
   "metadata": {},
   "source": [
    "Presentation Video Link: TD"
   ]
  },
  {
   "cell_type": "markdown",
   "metadata": {},
   "source": [
    "Data Source: https://snap.stanford.edu/data/email-EuAll.html"
   ]
  },
  {
   "cell_type": "markdown",
   "metadata": {},
   "source": [
    "Import required libraries"
   ]
  },
  {
   "cell_type": "code",
   "execution_count": 221,
   "metadata": {},
   "outputs": [],
   "source": [
    "import requests\n",
    "import networkx as nx\n",
    "import pandas as pd"
   ]
  },
  {
   "cell_type": "markdown",
   "metadata": {},
   "source": [
    "Read the data file, then split them in to lines. The first 3 lines contains data descriptions"
   ]
  },
  {
   "cell_type": "code",
   "execution_count": 222,
   "metadata": {},
   "outputs": [
    {
     "data": {
      "text/plain": [
       "['# Directed graph (each unordered pair of nodes is saved once): Email-EuAll.txt ',\n",
       " '# Email network of a large European Research Institution (directed edge means at least one email was sent between October 2003 and March 2005)',\n",
       " '# Nodes: 265214 Edges: 420045']"
      ]
     },
     "execution_count": 222,
     "metadata": {},
     "output_type": "execute_result"
    }
   ],
   "source": [
    "response = requests.get(\"https://raw.githubusercontent.com/ezaccountz/Data_620/main/week%202%20part%201/Email-EuAll.txt\").text\n",
    "[line for line in response.split(\"\\n\")[:3]]"
   ]
  },
  {
   "cell_type": "markdown",
   "metadata": {},
   "source": [
    "The 4th line contains the column names of the data: FromNodeId and ToNodeId. The last line is blank. Therefore, we only need from line 5 to the second last line in the text file"
   ]
  },
  {
   "cell_type": "code",
   "execution_count": 223,
   "metadata": {},
   "outputs": [],
   "source": [
    "lines = response.split(\"\\n\")[4:-1]"
   ]
  },
  {
   "cell_type": "markdown",
   "metadata": {},
   "source": [
    "Read the two node IDs from each line, which are separated by a '\\t' (tab) character.\n",
    "Then convert the node IDs to int for smaller storage and easier calculation"
   ]
  },
  {
   "cell_type": "code",
   "execution_count": 224,
   "metadata": {},
   "outputs": [
    {
     "data": {
      "text/html": [
       "<div>\n",
       "<style scoped>\n",
       "    .dataframe tbody tr th:only-of-type {\n",
       "        vertical-align: middle;\n",
       "    }\n",
       "\n",
       "    .dataframe tbody tr th {\n",
       "        vertical-align: top;\n",
       "    }\n",
       "\n",
       "    .dataframe thead th {\n",
       "        text-align: right;\n",
       "    }\n",
       "</style>\n",
       "<table border=\"1\" class=\"dataframe\">\n",
       "  <thead>\n",
       "    <tr style=\"text-align: right;\">\n",
       "      <th></th>\n",
       "      <th>from</th>\n",
       "      <th>to</th>\n",
       "    </tr>\n",
       "  </thead>\n",
       "  <tbody>\n",
       "    <tr>\n",
       "      <th>0</th>\n",
       "      <td>0</td>\n",
       "      <td>1</td>\n",
       "    </tr>\n",
       "    <tr>\n",
       "      <th>1</th>\n",
       "      <td>0</td>\n",
       "      <td>4</td>\n",
       "    </tr>\n",
       "    <tr>\n",
       "      <th>2</th>\n",
       "      <td>0</td>\n",
       "      <td>5</td>\n",
       "    </tr>\n",
       "    <tr>\n",
       "      <th>3</th>\n",
       "      <td>0</td>\n",
       "      <td>8</td>\n",
       "    </tr>\n",
       "    <tr>\n",
       "      <th>4</th>\n",
       "      <td>0</td>\n",
       "      <td>11</td>\n",
       "    </tr>\n",
       "    <tr>\n",
       "      <th>...</th>\n",
       "      <td>...</td>\n",
       "      <td>...</td>\n",
       "    </tr>\n",
       "    <tr>\n",
       "      <th>420040</th>\n",
       "      <td>265209</td>\n",
       "      <td>422</td>\n",
       "    </tr>\n",
       "    <tr>\n",
       "      <th>420041</th>\n",
       "      <td>265210</td>\n",
       "      <td>422</td>\n",
       "    </tr>\n",
       "    <tr>\n",
       "      <th>420042</th>\n",
       "      <td>265211</td>\n",
       "      <td>192</td>\n",
       "    </tr>\n",
       "    <tr>\n",
       "      <th>420043</th>\n",
       "      <td>265212</td>\n",
       "      <td>875</td>\n",
       "    </tr>\n",
       "    <tr>\n",
       "      <th>420044</th>\n",
       "      <td>265213</td>\n",
       "      <td>255750</td>\n",
       "    </tr>\n",
       "  </tbody>\n",
       "</table>\n",
       "<p>420045 rows × 2 columns</p>\n",
       "</div>"
      ],
      "text/plain": [
       "          from      to\n",
       "0            0       1\n",
       "1            0       4\n",
       "2            0       5\n",
       "3            0       8\n",
       "4            0      11\n",
       "...        ...     ...\n",
       "420040  265209     422\n",
       "420041  265210     422\n",
       "420042  265211     192\n",
       "420043  265212     875\n",
       "420044  265213  255750\n",
       "\n",
       "[420045 rows x 2 columns]"
      ]
     },
     "execution_count": 224,
     "metadata": {},
     "output_type": "execute_result"
    }
   ],
   "source": [
    "data_full = pd.DataFrame(data = [n.split(\"\\t\") for n in lines], columns = ['from','to'])\n",
    "data_full['from'] = [int(i) for i in data_full['from']]\n",
    "data_full['to'] = [int(i) for i in data_full['to']]\n",
    "data_full"
   ]
  },
  {
   "cell_type": "markdown",
   "metadata": {},
   "source": [
    "Since the dataset is too large, we are going to select a small subset for the analysis. The n_subset variable is the number of unique nodes"
   ]
  },
  {
   "cell_type": "code",
   "execution_count": 225,
   "metadata": {},
   "outputs": [],
   "source": [
    "n_subset = 500"
   ]
  },
  {
   "cell_type": "markdown",
   "metadata": {},
   "source": [
    "Filter the edges between the first n_subset nodes "
   ]
  },
  {
   "cell_type": "code",
   "execution_count": 226,
   "metadata": {},
   "outputs": [
    {
     "data": {
      "text/html": [
       "<div>\n",
       "<style scoped>\n",
       "    .dataframe tbody tr th:only-of-type {\n",
       "        vertical-align: middle;\n",
       "    }\n",
       "\n",
       "    .dataframe tbody tr th {\n",
       "        vertical-align: top;\n",
       "    }\n",
       "\n",
       "    .dataframe thead th {\n",
       "        text-align: right;\n",
       "    }\n",
       "</style>\n",
       "<table border=\"1\" class=\"dataframe\">\n",
       "  <thead>\n",
       "    <tr style=\"text-align: right;\">\n",
       "      <th></th>\n",
       "      <th>from</th>\n",
       "      <th>to</th>\n",
       "    </tr>\n",
       "  </thead>\n",
       "  <tbody>\n",
       "    <tr>\n",
       "      <th>0</th>\n",
       "      <td>0</td>\n",
       "      <td>1</td>\n",
       "    </tr>\n",
       "    <tr>\n",
       "      <th>1</th>\n",
       "      <td>0</td>\n",
       "      <td>4</td>\n",
       "    </tr>\n",
       "    <tr>\n",
       "      <th>2</th>\n",
       "      <td>0</td>\n",
       "      <td>5</td>\n",
       "    </tr>\n",
       "    <tr>\n",
       "      <th>3</th>\n",
       "      <td>0</td>\n",
       "      <td>8</td>\n",
       "    </tr>\n",
       "    <tr>\n",
       "      <th>4</th>\n",
       "      <td>0</td>\n",
       "      <td>11</td>\n",
       "    </tr>\n",
       "    <tr>\n",
       "      <th>...</th>\n",
       "      <td>...</td>\n",
       "      <td>...</td>\n",
       "    </tr>\n",
       "    <tr>\n",
       "      <th>2951</th>\n",
       "      <td>497</td>\n",
       "      <td>452</td>\n",
       "    </tr>\n",
       "    <tr>\n",
       "      <th>2952</th>\n",
       "      <td>497</td>\n",
       "      <td>455</td>\n",
       "    </tr>\n",
       "    <tr>\n",
       "      <th>2953</th>\n",
       "      <td>497</td>\n",
       "      <td>457</td>\n",
       "    </tr>\n",
       "    <tr>\n",
       "      <th>2954</th>\n",
       "      <td>497</td>\n",
       "      <td>496</td>\n",
       "    </tr>\n",
       "    <tr>\n",
       "      <th>2955</th>\n",
       "      <td>497</td>\n",
       "      <td>497</td>\n",
       "    </tr>\n",
       "  </tbody>\n",
       "</table>\n",
       "<p>2956 rows × 2 columns</p>\n",
       "</div>"
      ],
      "text/plain": [
       "      from   to\n",
       "0        0    1\n",
       "1        0    4\n",
       "2        0    5\n",
       "3        0    8\n",
       "4        0   11\n",
       "...    ...  ...\n",
       "2951   497  452\n",
       "2952   497  455\n",
       "2953   497  457\n",
       "2954   497  496\n",
       "2955   497  497\n",
       "\n",
       "[2956 rows x 2 columns]"
      ]
     },
     "execution_count": 226,
     "metadata": {},
     "output_type": "execute_result"
    }
   ],
   "source": [
    "data_sub = data_full[data_full['from'] < n_subset]\n",
    "data_sub = data_sub[data_sub['to'] < n_subset]\n",
    "data_sub = data_sub.reset_index(drop=True)\n",
    "data_sub"
   ]
  },
  {
   "cell_type": "markdown",
   "metadata": {},
   "source": [
    "Now, we create a directed graph using the finished dataframe"
   ]
  },
  {
   "cell_type": "code",
   "execution_count": 227,
   "metadata": {},
   "outputs": [],
   "source": [
    "g = nx.from_pandas_edgelist(data_sub, 'from', 'to', create_using=nx.DiGraph())"
   ]
  },
  {
   "cell_type": "markdown",
   "metadata": {},
   "source": [
    "The number of nodes is"
   ]
  },
  {
   "cell_type": "code",
   "execution_count": 228,
   "metadata": {},
   "outputs": [
    {
     "data": {
      "text/plain": [
       "499"
      ]
     },
     "execution_count": 228,
     "metadata": {},
     "output_type": "execute_result"
    }
   ],
   "source": [
    "nx.number_of_nodes(g)"
   ]
  },
  {
   "cell_type": "markdown",
   "metadata": {},
   "source": [
    "The total number of nodes is 499, it seems like there is one node ID not included in the FromNodeId list"
   ]
  },
  {
   "cell_type": "markdown",
   "metadata": {},
   "source": [
    "The number of directed edges is"
   ]
  },
  {
   "cell_type": "code",
   "execution_count": 229,
   "metadata": {},
   "outputs": [
    {
     "data": {
      "text/plain": [
       "2956"
      ]
     },
     "execution_count": 229,
     "metadata": {},
     "output_type": "execute_result"
    }
   ],
   "source": [
    "nx.number_of_edges(g)"
   ]
  },
  {
   "cell_type": "markdown",
   "metadata": {},
   "source": [
    "Let's check if there are any isolated groups"
   ]
  },
  {
   "cell_type": "code",
   "execution_count": 230,
   "metadata": {},
   "outputs": [
    {
     "data": {
      "text/plain": [
       "[252, 2, 2, 2, 2, 1, 1, 1, 1]"
      ]
     },
     "execution_count": 230,
     "metadata": {},
     "output_type": "execute_result"
    }
   ],
   "source": [
    "[len(c) for c in sorted(nx.strongly_connected_components(g), key=len, reverse=True)][0:9]"
   ]
  },
  {
   "cell_type": "markdown",
   "metadata": {},
   "source": [
    "The main connected group contains 252 nodes, which the remaining group contains only 1 or 2 nodes"
   ]
  },
  {
   "cell_type": "markdown",
   "metadata": {},
   "source": [
    "We will focus on the main group lcc (largest connected component)"
   ]
  },
  {
   "cell_type": "code",
   "execution_count": 231,
   "metadata": {},
   "outputs": [],
   "source": [
    "largest_cc = max(nx.strongly_connected_components(g), key=len)\n",
    "\n",
    "#The following should be used instead for undirected graph\n",
    "#g = nx.from_pandas_edgelist(data_sub, 'from', 'to')\n",
    "#[len(c) for c in sorted(nx.connected_components(g), key=len, reverse=True)]\n",
    "#largest_cc = max(nx.connected_components(g), key=len)"
   ]
  },
  {
   "cell_type": "code",
   "execution_count": 232,
   "metadata": {},
   "outputs": [],
   "source": [
    "lcc = g.subgraph(largest_cc).copy() "
   ]
  },
  {
   "cell_type": "markdown",
   "metadata": {},
   "source": [
    "again, the number of nodes in the lcc is "
   ]
  },
  {
   "cell_type": "code",
   "execution_count": 233,
   "metadata": {},
   "outputs": [
    {
     "data": {
      "text/plain": [
       "252"
      ]
     },
     "execution_count": 233,
     "metadata": {},
     "output_type": "execute_result"
    }
   ],
   "source": [
    "nx.number_of_nodes(lcc)"
   ]
  },
  {
   "cell_type": "markdown",
   "metadata": {},
   "source": [
    "The number of edges in the lcc is"
   ]
  },
  {
   "cell_type": "code",
   "execution_count": 234,
   "metadata": {},
   "outputs": [
    {
     "data": {
      "text/plain": [
       "2513"
      ]
     },
     "execution_count": 234,
     "metadata": {},
     "output_type": "execute_result"
    }
   ],
   "source": [
    "nx.number_of_edges(lcc)"
   ]
  },
  {
   "cell_type": "markdown",
   "metadata": {},
   "source": [
    "The diameter of the graph of lcc is 7, indicating a well connected social network"
   ]
  },
  {
   "cell_type": "code",
   "execution_count": 235,
   "metadata": {},
   "outputs": [
    {
     "data": {
      "text/plain": [
       "7"
      ]
     },
     "execution_count": 235,
     "metadata": {},
     "output_type": "execute_result"
    }
   ],
   "source": [
    "nx.diameter(lcc)"
   ]
  },
  {
   "cell_type": "markdown",
   "metadata": {},
   "source": [
    "Now, let check the other properties of our graph"
   ]
  },
  {
   "cell_type": "code",
   "execution_count": 236,
   "metadata": {},
   "outputs": [],
   "source": [
    "summarys = pd.DataFrame(dict(\n",
    "    DEGREE = dict(lcc.degree),\n",
    "    DEGREE_CENTRALITY = nx.degree_centrality(lcc),\n",
    "    EIGENVECTOR = nx.eigenvector_centrality(lcc),\n",
    "    KATZ = nx.katz_centrality_numpy(lcc),\n",
    "    CLOSENESS_CENTRALITY = nx.closeness_centrality(lcc),\n",
    "    BETWEENNESS_CENTRALITY = nx.betweenness_centrality(lcc),\n",
    "    CLUSTCOEF = nx.clustering(lcc),\n",
    ")) \n",
    "#code used is from \n",
    "#https://stackoverflow.com/questions/51974825/networkx-pandas-cant-output-the-degree-of-the-nodes-into-a-txt-file-error"
   ]
  },
  {
   "cell_type": "code",
   "execution_count": 237,
   "metadata": {},
   "outputs": [
    {
     "data": {
      "text/html": [
       "<div>\n",
       "<style scoped>\n",
       "    .dataframe tbody tr th:only-of-type {\n",
       "        vertical-align: middle;\n",
       "    }\n",
       "\n",
       "    .dataframe tbody tr th {\n",
       "        vertical-align: top;\n",
       "    }\n",
       "\n",
       "    .dataframe thead th {\n",
       "        text-align: right;\n",
       "    }\n",
       "</style>\n",
       "<table border=\"1\" class=\"dataframe\">\n",
       "  <thead>\n",
       "    <tr style=\"text-align: right;\">\n",
       "      <th></th>\n",
       "      <th>DEGREE</th>\n",
       "      <th>DEGREE_CENTRALITY</th>\n",
       "      <th>EIGENVECTOR</th>\n",
       "      <th>KATZ</th>\n",
       "      <th>CLOSENESS_CENTRALITY</th>\n",
       "      <th>BETWEENNESS_CENTRALITY</th>\n",
       "      <th>CLUSTCOEF</th>\n",
       "    </tr>\n",
       "  </thead>\n",
       "  <tbody>\n",
       "    <tr>\n",
       "      <th>314</th>\n",
       "      <td>127</td>\n",
       "      <td>0.505976</td>\n",
       "      <td>0.251725</td>\n",
       "      <td>-0.031513</td>\n",
       "      <td>0.496047</td>\n",
       "      <td>0.135286</td>\n",
       "      <td>0.126526</td>\n",
       "    </tr>\n",
       "    <tr>\n",
       "      <th>10</th>\n",
       "      <td>100</td>\n",
       "      <td>0.398406</td>\n",
       "      <td>0.170728</td>\n",
       "      <td>0.069430</td>\n",
       "      <td>0.470919</td>\n",
       "      <td>0.140121</td>\n",
       "      <td>0.096966</td>\n",
       "    </tr>\n",
       "    <tr>\n",
       "      <th>192</th>\n",
       "      <td>97</td>\n",
       "      <td>0.386454</td>\n",
       "      <td>0.242733</td>\n",
       "      <td>-0.019339</td>\n",
       "      <td>0.463100</td>\n",
       "      <td>0.057408</td>\n",
       "      <td>0.203005</td>\n",
       "    </tr>\n",
       "    <tr>\n",
       "      <th>175</th>\n",
       "      <td>81</td>\n",
       "      <td>0.322709</td>\n",
       "      <td>0.175969</td>\n",
       "      <td>-0.061403</td>\n",
       "      <td>0.447415</td>\n",
       "      <td>0.049527</td>\n",
       "      <td>0.180952</td>\n",
       "    </tr>\n",
       "    <tr>\n",
       "      <th>240</th>\n",
       "      <td>76</td>\n",
       "      <td>0.302789</td>\n",
       "      <td>0.169645</td>\n",
       "      <td>-0.148683</td>\n",
       "      <td>0.458029</td>\n",
       "      <td>0.050219</td>\n",
       "      <td>0.190868</td>\n",
       "    </tr>\n",
       "    <tr>\n",
       "      <th>336</th>\n",
       "      <td>75</td>\n",
       "      <td>0.298805</td>\n",
       "      <td>0.218410</td>\n",
       "      <td>-0.070358</td>\n",
       "      <td>0.435009</td>\n",
       "      <td>0.021719</td>\n",
       "      <td>0.315921</td>\n",
       "    </tr>\n",
       "    <tr>\n",
       "      <th>446</th>\n",
       "      <td>71</td>\n",
       "      <td>0.282869</td>\n",
       "      <td>0.094778</td>\n",
       "      <td>-0.034898</td>\n",
       "      <td>0.449821</td>\n",
       "      <td>0.091287</td>\n",
       "      <td>0.117934</td>\n",
       "    </tr>\n",
       "    <tr>\n",
       "      <th>467</th>\n",
       "      <td>68</td>\n",
       "      <td>0.270916</td>\n",
       "      <td>0.147885</td>\n",
       "      <td>-0.100030</td>\n",
       "      <td>0.439580</td>\n",
       "      <td>0.038645</td>\n",
       "      <td>0.189355</td>\n",
       "    </tr>\n",
       "    <tr>\n",
       "      <th>425</th>\n",
       "      <td>66</td>\n",
       "      <td>0.262948</td>\n",
       "      <td>0.086513</td>\n",
       "      <td>0.036830</td>\n",
       "      <td>0.386749</td>\n",
       "      <td>0.040221</td>\n",
       "      <td>0.117133</td>\n",
       "    </tr>\n",
       "    <tr>\n",
       "      <th>457</th>\n",
       "      <td>65</td>\n",
       "      <td>0.258964</td>\n",
       "      <td>0.143047</td>\n",
       "      <td>-0.067836</td>\n",
       "      <td>0.457195</td>\n",
       "      <td>0.035086</td>\n",
       "      <td>0.179979</td>\n",
       "    </tr>\n",
       "    <tr>\n",
       "      <th>406</th>\n",
       "      <td>65</td>\n",
       "      <td>0.258964</td>\n",
       "      <td>0.197867</td>\n",
       "      <td>-0.089402</td>\n",
       "      <td>0.420436</td>\n",
       "      <td>0.019085</td>\n",
       "      <td>0.332901</td>\n",
       "    </tr>\n",
       "    <tr>\n",
       "      <th>147</th>\n",
       "      <td>63</td>\n",
       "      <td>0.250996</td>\n",
       "      <td>0.169561</td>\n",
       "      <td>-0.011595</td>\n",
       "      <td>0.416252</td>\n",
       "      <td>0.023101</td>\n",
       "      <td>0.344981</td>\n",
       "    </tr>\n",
       "    <tr>\n",
       "      <th>397</th>\n",
       "      <td>60</td>\n",
       "      <td>0.239044</td>\n",
       "      <td>0.139533</td>\n",
       "      <td>-0.082562</td>\n",
       "      <td>0.442681</td>\n",
       "      <td>0.034247</td>\n",
       "      <td>0.221201</td>\n",
       "    </tr>\n",
       "    <tr>\n",
       "      <th>104</th>\n",
       "      <td>59</td>\n",
       "      <td>0.235060</td>\n",
       "      <td>0.046174</td>\n",
       "      <td>-0.206798</td>\n",
       "      <td>0.373512</td>\n",
       "      <td>0.036205</td>\n",
       "      <td>0.183323</td>\n",
       "    </tr>\n",
       "    <tr>\n",
       "      <th>301</th>\n",
       "      <td>57</td>\n",
       "      <td>0.227092</td>\n",
       "      <td>0.142880</td>\n",
       "      <td>-0.128048</td>\n",
       "      <td>0.425424</td>\n",
       "      <td>0.021281</td>\n",
       "      <td>0.276865</td>\n",
       "    </tr>\n",
       "    <tr>\n",
       "      <th>333</th>\n",
       "      <td>56</td>\n",
       "      <td>0.223108</td>\n",
       "      <td>0.161710</td>\n",
       "      <td>-0.035593</td>\n",
       "      <td>0.426146</td>\n",
       "      <td>0.016424</td>\n",
       "      <td>0.321606</td>\n",
       "    </tr>\n",
       "    <tr>\n",
       "      <th>452</th>\n",
       "      <td>55</td>\n",
       "      <td>0.219124</td>\n",
       "      <td>0.139747</td>\n",
       "      <td>-0.075174</td>\n",
       "      <td>0.432014</td>\n",
       "      <td>0.016699</td>\n",
       "      <td>0.263274</td>\n",
       "    </tr>\n",
       "    <tr>\n",
       "      <th>158</th>\n",
       "      <td>51</td>\n",
       "      <td>0.203187</td>\n",
       "      <td>0.163760</td>\n",
       "      <td>-0.067638</td>\n",
       "      <td>0.400319</td>\n",
       "      <td>0.007365</td>\n",
       "      <td>0.461839</td>\n",
       "    </tr>\n",
       "    <tr>\n",
       "      <th>372</th>\n",
       "      <td>51</td>\n",
       "      <td>0.203187</td>\n",
       "      <td>0.072617</td>\n",
       "      <td>-0.156300</td>\n",
       "      <td>0.419032</td>\n",
       "      <td>0.032955</td>\n",
       "      <td>0.225065</td>\n",
       "    </tr>\n",
       "    <tr>\n",
       "      <th>186</th>\n",
       "      <td>49</td>\n",
       "      <td>0.195219</td>\n",
       "      <td>0.098734</td>\n",
       "      <td>-0.077046</td>\n",
       "      <td>0.423272</td>\n",
       "      <td>0.024339</td>\n",
       "      <td>0.198495</td>\n",
       "    </tr>\n",
       "  </tbody>\n",
       "</table>\n",
       "</div>"
      ],
      "text/plain": [
       "     DEGREE  DEGREE_CENTRALITY  EIGENVECTOR      KATZ  CLOSENESS_CENTRALITY  \\\n",
       "314     127           0.505976     0.251725 -0.031513              0.496047   \n",
       "10      100           0.398406     0.170728  0.069430              0.470919   \n",
       "192      97           0.386454     0.242733 -0.019339              0.463100   \n",
       "175      81           0.322709     0.175969 -0.061403              0.447415   \n",
       "240      76           0.302789     0.169645 -0.148683              0.458029   \n",
       "336      75           0.298805     0.218410 -0.070358              0.435009   \n",
       "446      71           0.282869     0.094778 -0.034898              0.449821   \n",
       "467      68           0.270916     0.147885 -0.100030              0.439580   \n",
       "425      66           0.262948     0.086513  0.036830              0.386749   \n",
       "457      65           0.258964     0.143047 -0.067836              0.457195   \n",
       "406      65           0.258964     0.197867 -0.089402              0.420436   \n",
       "147      63           0.250996     0.169561 -0.011595              0.416252   \n",
       "397      60           0.239044     0.139533 -0.082562              0.442681   \n",
       "104      59           0.235060     0.046174 -0.206798              0.373512   \n",
       "301      57           0.227092     0.142880 -0.128048              0.425424   \n",
       "333      56           0.223108     0.161710 -0.035593              0.426146   \n",
       "452      55           0.219124     0.139747 -0.075174              0.432014   \n",
       "158      51           0.203187     0.163760 -0.067638              0.400319   \n",
       "372      51           0.203187     0.072617 -0.156300              0.419032   \n",
       "186      49           0.195219     0.098734 -0.077046              0.423272   \n",
       "\n",
       "     BETWEENNESS_CENTRALITY  CLUSTCOEF  \n",
       "314                0.135286   0.126526  \n",
       "10                 0.140121   0.096966  \n",
       "192                0.057408   0.203005  \n",
       "175                0.049527   0.180952  \n",
       "240                0.050219   0.190868  \n",
       "336                0.021719   0.315921  \n",
       "446                0.091287   0.117934  \n",
       "467                0.038645   0.189355  \n",
       "425                0.040221   0.117133  \n",
       "457                0.035086   0.179979  \n",
       "406                0.019085   0.332901  \n",
       "147                0.023101   0.344981  \n",
       "397                0.034247   0.221201  \n",
       "104                0.036205   0.183323  \n",
       "301                0.021281   0.276865  \n",
       "333                0.016424   0.321606  \n",
       "452                0.016699   0.263274  \n",
       "158                0.007365   0.461839  \n",
       "372                0.032955   0.225065  \n",
       "186                0.024339   0.198495  "
      ]
     },
     "execution_count": 237,
     "metadata": {},
     "output_type": "execute_result"
    }
   ],
   "source": [
    "summarys.sort_values(by = 'DEGREE', ascending = False).head(20)"
   ]
  },
  {
   "cell_type": "code",
   "execution_count": 238,
   "metadata": {},
   "outputs": [
    {
     "data": {
      "text/plain": [
       "DEGREE                    19.944444\n",
       "DEGREE_CENTRALITY          0.079460\n",
       "EIGENVECTOR                0.040200\n",
       "KATZ                       0.003336\n",
       "CLOSENESS_CENTRALITY       0.341816\n",
       "BETWEENNESS_CENTRALITY     0.008054\n",
       "CLUSTCOEF                  0.319141\n",
       "dtype: float64"
      ]
     },
     "execution_count": 238,
     "metadata": {},
     "output_type": "execute_result"
    }
   ],
   "source": [
    "summarys.mean()"
   ]
  },
  {
   "cell_type": "markdown",
   "metadata": {},
   "source": [
    "The average degree of the nodes is about 20, which again shows a well connected social network"
   ]
  },
  {
   "cell_type": "markdown",
   "metadata": {},
   "source": [
    "Export the graph as a gefx file that can be used by Gephi or other programs for visualization"
   ]
  },
  {
   "cell_type": "code",
   "execution_count": 239,
   "metadata": {},
   "outputs": [],
   "source": [
    "nx.write_gexf(lcc, 'E:/SPS/DATA 620/assignments/emails.gexf')"
   ]
  }
 ],
 "metadata": {
  "kernelspec": {
   "display_name": "Python 3",
   "language": "python",
   "name": "python3"
  },
  "language_info": {
   "codemirror_mode": {
    "name": "ipython",
    "version": 3
   },
   "file_extension": ".py",
   "mimetype": "text/x-python",
   "name": "python",
   "nbconvert_exporter": "python",
   "pygments_lexer": "ipython3",
   "version": "3.8.3"
  }
 },
 "nbformat": 4,
 "nbformat_minor": 4
}
