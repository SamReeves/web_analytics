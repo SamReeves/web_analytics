{
 "cells": [
  {
   "cell_type": "markdown",
   "metadata": {},
   "source": [
    "# Assignment Graph Visualization\n",
    "### DATA 620 <br> David Moste &emsp; Euclid zhang &emsp; Samuel Reeves <br>6/3/2021"
   ]
  },
  {
   "cell_type": "markdown",
   "metadata": {},
   "source": [
    "Presentation Video Link: TD"
   ]
  },
  {
   "cell_type": "markdown",
   "metadata": {},
   "source": [
    "Import required libraries"
   ]
  },
  {
   "cell_type": "code",
   "execution_count": 92,
   "metadata": {},
   "outputs": [],
   "source": [
    "import requests\n",
    "import networkx as nx\n",
    "import pandas as pd\n",
    "import matplotlib.pyplot as plt\n",
    "import numpy as np"
   ]
  },
  {
   "cell_type": "markdown",
   "metadata": {},
   "source": [
    "### Data Description"
   ]
  },
  {
   "cell_type": "markdown",
   "metadata": {},
   "source": [
    "Data Source: https://snap.stanford.edu/data/email-EuAll.html\n",
    "<br><br>\n",
    "Our data is a network representing the emails sent in an European research institution from October 2003 to May 2005. Each directed edge represents that there is at least one email sent from node 1 (user 1) to node 2 (user 2)"
   ]
  },
  {
   "cell_type": "markdown",
   "metadata": {},
   "source": [
    "### Data Preparation"
   ]
  },
  {
   "cell_type": "markdown",
   "metadata": {},
   "source": [
    "The data is stored in a text file. First, we read the data file into the system, then split them in to lines. The first 3 lines contains data descriptions"
   ]
  },
  {
   "cell_type": "code",
   "execution_count": 93,
   "metadata": {},
   "outputs": [
    {
     "data": {
      "text/plain": [
       "['# Directed graph (each unordered pair of nodes is saved once): Email-EuAll.txt ',\n",
       " '# Email network of a large European Research Institution (directed edge means at least one email was sent between October 2003 and March 2005)',\n",
       " '# Nodes: 265214 Edges: 420045']"
      ]
     },
     "execution_count": 93,
     "metadata": {},
     "output_type": "execute_result"
    }
   ],
   "source": [
    "response = requests.get(\"https://raw.githubusercontent.com/ezaccountz/Data_620/main/week%202%20part%201/Email-EuAll.txt\").text\n",
    "[line for line in response.split(\"\\n\")[:3]]"
   ]
  },
  {
   "cell_type": "markdown",
   "metadata": {},
   "source": [
    "The 4th line contains the column names of the data: FromNodeId and ToNodeId. The last line is blank. <br>\n",
    "Therefore, we only need from line 5 to the second last line in the text file"
   ]
  },
  {
   "cell_type": "code",
   "execution_count": 94,
   "metadata": {},
   "outputs": [],
   "source": [
    "lines = response.split(\"\\n\")[4:-1]"
   ]
  },
  {
   "cell_type": "markdown",
   "metadata": {},
   "source": [
    "Each line represents a directed edge. <br>\n",
    "The first number is the the source node ID (sender of an email)<br>\n",
    "The second number is the target node ID (receiver of the email)<br>\n",
    "The two nodes are separated by a '\\t' (tab character).<br>\n",
    "Then convert the node IDs to int for smaller storage and easier calculation"
   ]
  },
  {
   "cell_type": "code",
   "execution_count": 95,
   "metadata": {},
   "outputs": [
    {
     "data": {
      "text/html": [
       "<div>\n",
       "<style scoped>\n",
       "    .dataframe tbody tr th:only-of-type {\n",
       "        vertical-align: middle;\n",
       "    }\n",
       "\n",
       "    .dataframe tbody tr th {\n",
       "        vertical-align: top;\n",
       "    }\n",
       "\n",
       "    .dataframe thead th {\n",
       "        text-align: right;\n",
       "    }\n",
       "</style>\n",
       "<table border=\"1\" class=\"dataframe\">\n",
       "  <thead>\n",
       "    <tr style=\"text-align: right;\">\n",
       "      <th></th>\n",
       "      <th>from</th>\n",
       "      <th>to</th>\n",
       "    </tr>\n",
       "  </thead>\n",
       "  <tbody>\n",
       "    <tr>\n",
       "      <th>0</th>\n",
       "      <td>0</td>\n",
       "      <td>1</td>\n",
       "    </tr>\n",
       "    <tr>\n",
       "      <th>1</th>\n",
       "      <td>0</td>\n",
       "      <td>4</td>\n",
       "    </tr>\n",
       "    <tr>\n",
       "      <th>2</th>\n",
       "      <td>0</td>\n",
       "      <td>5</td>\n",
       "    </tr>\n",
       "    <tr>\n",
       "      <th>3</th>\n",
       "      <td>0</td>\n",
       "      <td>8</td>\n",
       "    </tr>\n",
       "    <tr>\n",
       "      <th>4</th>\n",
       "      <td>0</td>\n",
       "      <td>11</td>\n",
       "    </tr>\n",
       "    <tr>\n",
       "      <th>...</th>\n",
       "      <td>...</td>\n",
       "      <td>...</td>\n",
       "    </tr>\n",
       "    <tr>\n",
       "      <th>420040</th>\n",
       "      <td>265209</td>\n",
       "      <td>422</td>\n",
       "    </tr>\n",
       "    <tr>\n",
       "      <th>420041</th>\n",
       "      <td>265210</td>\n",
       "      <td>422</td>\n",
       "    </tr>\n",
       "    <tr>\n",
       "      <th>420042</th>\n",
       "      <td>265211</td>\n",
       "      <td>192</td>\n",
       "    </tr>\n",
       "    <tr>\n",
       "      <th>420043</th>\n",
       "      <td>265212</td>\n",
       "      <td>875</td>\n",
       "    </tr>\n",
       "    <tr>\n",
       "      <th>420044</th>\n",
       "      <td>265213</td>\n",
       "      <td>255750</td>\n",
       "    </tr>\n",
       "  </tbody>\n",
       "</table>\n",
       "<p>420045 rows × 2 columns</p>\n",
       "</div>"
      ],
      "text/plain": [
       "          from      to\n",
       "0            0       1\n",
       "1            0       4\n",
       "2            0       5\n",
       "3            0       8\n",
       "4            0      11\n",
       "...        ...     ...\n",
       "420040  265209     422\n",
       "420041  265210     422\n",
       "420042  265211     192\n",
       "420043  265212     875\n",
       "420044  265213  255750\n",
       "\n",
       "[420045 rows x 2 columns]"
      ]
     },
     "execution_count": 95,
     "metadata": {},
     "output_type": "execute_result"
    }
   ],
   "source": [
    "data_full = pd.DataFrame(data = [n.split(\"\\t\") for n in lines], columns = ['from','to'])\n",
    "data_full['from'] = [int(i) for i in data_full['from']]\n",
    "data_full['to'] = [int(i) for i in data_full['to']]\n",
    "data_full"
   ]
  },
  {
   "cell_type": "markdown",
   "metadata": {},
   "source": [
    "Since the dataset is too large, we are going to select a small subset for the analysis. Use the n_subset variable to set up the number of nodes in the subset"
   ]
  },
  {
   "cell_type": "code",
   "execution_count": 96,
   "metadata": {},
   "outputs": [],
   "source": [
    "n_subset = 500"
   ]
  },
  {
   "cell_type": "markdown",
   "metadata": {},
   "source": [
    "Filter the edges connecting only the first n_subset nodes "
   ]
  },
  {
   "cell_type": "code",
   "execution_count": 97,
   "metadata": {},
   "outputs": [
    {
     "data": {
      "text/html": [
       "<div>\n",
       "<style scoped>\n",
       "    .dataframe tbody tr th:only-of-type {\n",
       "        vertical-align: middle;\n",
       "    }\n",
       "\n",
       "    .dataframe tbody tr th {\n",
       "        vertical-align: top;\n",
       "    }\n",
       "\n",
       "    .dataframe thead th {\n",
       "        text-align: right;\n",
       "    }\n",
       "</style>\n",
       "<table border=\"1\" class=\"dataframe\">\n",
       "  <thead>\n",
       "    <tr style=\"text-align: right;\">\n",
       "      <th></th>\n",
       "      <th>from</th>\n",
       "      <th>to</th>\n",
       "    </tr>\n",
       "  </thead>\n",
       "  <tbody>\n",
       "    <tr>\n",
       "      <th>0</th>\n",
       "      <td>0</td>\n",
       "      <td>1</td>\n",
       "    </tr>\n",
       "    <tr>\n",
       "      <th>1</th>\n",
       "      <td>0</td>\n",
       "      <td>4</td>\n",
       "    </tr>\n",
       "    <tr>\n",
       "      <th>2</th>\n",
       "      <td>0</td>\n",
       "      <td>5</td>\n",
       "    </tr>\n",
       "    <tr>\n",
       "      <th>3</th>\n",
       "      <td>0</td>\n",
       "      <td>8</td>\n",
       "    </tr>\n",
       "    <tr>\n",
       "      <th>4</th>\n",
       "      <td>0</td>\n",
       "      <td>11</td>\n",
       "    </tr>\n",
       "    <tr>\n",
       "      <th>...</th>\n",
       "      <td>...</td>\n",
       "      <td>...</td>\n",
       "    </tr>\n",
       "    <tr>\n",
       "      <th>2951</th>\n",
       "      <td>497</td>\n",
       "      <td>452</td>\n",
       "    </tr>\n",
       "    <tr>\n",
       "      <th>2952</th>\n",
       "      <td>497</td>\n",
       "      <td>455</td>\n",
       "    </tr>\n",
       "    <tr>\n",
       "      <th>2953</th>\n",
       "      <td>497</td>\n",
       "      <td>457</td>\n",
       "    </tr>\n",
       "    <tr>\n",
       "      <th>2954</th>\n",
       "      <td>497</td>\n",
       "      <td>496</td>\n",
       "    </tr>\n",
       "    <tr>\n",
       "      <th>2955</th>\n",
       "      <td>497</td>\n",
       "      <td>497</td>\n",
       "    </tr>\n",
       "  </tbody>\n",
       "</table>\n",
       "<p>2956 rows × 2 columns</p>\n",
       "</div>"
      ],
      "text/plain": [
       "      from   to\n",
       "0        0    1\n",
       "1        0    4\n",
       "2        0    5\n",
       "3        0    8\n",
       "4        0   11\n",
       "...    ...  ...\n",
       "2951   497  452\n",
       "2952   497  455\n",
       "2953   497  457\n",
       "2954   497  496\n",
       "2955   497  497\n",
       "\n",
       "[2956 rows x 2 columns]"
      ]
     },
     "execution_count": 97,
     "metadata": {},
     "output_type": "execute_result"
    }
   ],
   "source": [
    "data_sub = data_full[data_full['from'] < n_subset]\n",
    "data_sub = data_sub[data_sub['to'] < n_subset]\n",
    "data_sub = data_sub.reset_index(drop=True)\n",
    "data_sub"
   ]
  },
  {
   "cell_type": "markdown",
   "metadata": {},
   "source": [
    "Now, we create a directed graph using the finished dataframe"
   ]
  },
  {
   "cell_type": "code",
   "execution_count": 98,
   "metadata": {},
   "outputs": [],
   "source": [
    "g = nx.from_pandas_edgelist(data_sub, 'from', 'to', create_using=nx.DiGraph())"
   ]
  },
  {
   "cell_type": "markdown",
   "metadata": {},
   "source": [
    "The number of nodes is"
   ]
  },
  {
   "cell_type": "code",
   "execution_count": 99,
   "metadata": {},
   "outputs": [
    {
     "data": {
      "text/plain": [
       "499"
      ]
     },
     "execution_count": 99,
     "metadata": {},
     "output_type": "execute_result"
    }
   ],
   "source": [
    "nx.number_of_nodes(g)"
   ]
  },
  {
   "cell_type": "markdown",
   "metadata": {},
   "source": [
    "The total number of nodes is 499, it seems like there is one node ID not included in the FromNodeId list"
   ]
  },
  {
   "cell_type": "markdown",
   "metadata": {},
   "source": [
    "The number of directed edges is"
   ]
  },
  {
   "cell_type": "code",
   "execution_count": 100,
   "metadata": {},
   "outputs": [
    {
     "data": {
      "text/plain": [
       "2956"
      ]
     },
     "execution_count": 100,
     "metadata": {},
     "output_type": "execute_result"
    }
   ],
   "source": [
    "nx.number_of_edges(g)"
   ]
  },
  {
   "cell_type": "markdown",
   "metadata": {},
   "source": [
    "Let's check if there are any isolated groups"
   ]
  },
  {
   "cell_type": "code",
   "execution_count": 101,
   "metadata": {},
   "outputs": [
    {
     "data": {
      "text/plain": [
       "1      239\n",
       "2        4\n",
       "252      1\n",
       "dtype: int64"
      ]
     },
     "execution_count": 101,
     "metadata": {},
     "output_type": "execute_result"
    }
   ],
   "source": [
    "pd.Series([len(c) for c in sorted(nx.strongly_connected_components(g), key=len)]).value_counts()"
   ]
  },
  {
   "cell_type": "markdown",
   "metadata": {},
   "source": [
    "The main connected group contains 252 nodes, which the remaining group contains only 1 or 2 nodes"
   ]
  },
  {
   "cell_type": "markdown",
   "metadata": {},
   "source": [
    "We will focus on the main group lcc (largest connected component)"
   ]
  },
  {
   "cell_type": "code",
   "execution_count": 102,
   "metadata": {},
   "outputs": [],
   "source": [
    "largest_cc = max(nx.strongly_connected_components(g), key=len)\n",
    "\n",
    "#The following should be used instead for undirected graph\n",
    "#g = nx.from_pandas_edgelist(data_sub, 'from', 'to')\n",
    "#pd.Series([len(c) for c in sorted(nx.connected_components(g), key=len)]).value_counts()\n",
    "#largest_cc = max(nx.connected_components(g), key=len)"
   ]
  },
  {
   "cell_type": "code",
   "execution_count": 103,
   "metadata": {},
   "outputs": [],
   "source": [
    "lcc = g.subgraph(largest_cc).copy() "
   ]
  },
  {
   "cell_type": "markdown",
   "metadata": {},
   "source": [
    "again, the number of nodes in the lcc is "
   ]
  },
  {
   "cell_type": "code",
   "execution_count": 104,
   "metadata": {},
   "outputs": [
    {
     "data": {
      "text/plain": [
       "252"
      ]
     },
     "execution_count": 104,
     "metadata": {},
     "output_type": "execute_result"
    }
   ],
   "source": [
    "nx.number_of_nodes(lcc)"
   ]
  },
  {
   "cell_type": "markdown",
   "metadata": {},
   "source": [
    "The number of edges in the lcc is"
   ]
  },
  {
   "cell_type": "code",
   "execution_count": 105,
   "metadata": {},
   "outputs": [
    {
     "data": {
      "text/plain": [
       "2513"
      ]
     },
     "execution_count": 105,
     "metadata": {},
     "output_type": "execute_result"
    }
   ],
   "source": [
    "nx.number_of_edges(lcc)"
   ]
  },
  {
   "cell_type": "markdown",
   "metadata": {},
   "source": [
    "### Data Analysis"
   ]
  },
  {
   "cell_type": "markdown",
   "metadata": {},
   "source": [
    "Now, let's calculate the diameter"
   ]
  },
  {
   "cell_type": "code",
   "execution_count": 106,
   "metadata": {},
   "outputs": [
    {
     "data": {
      "text/plain": [
       "7"
      ]
     },
     "execution_count": 106,
     "metadata": {},
     "output_type": "execute_result"
    }
   ],
   "source": [
    "nx.diameter(lcc)"
   ]
  },
  {
   "cell_type": "markdown",
   "metadata": {},
   "source": [
    "The diameter, which is the longest path between two nodes connected indirectly, is 7. A small number indicates that the network is well connected. We may want to check some other measurements of the network's centrality to confirm that the network is indeed well connected."
   ]
  },
  {
   "cell_type": "markdown",
   "metadata": {},
   "source": [
    "Now, let check some centralities of our graph"
   ]
  },
  {
   "cell_type": "code",
   "execution_count": 107,
   "metadata": {},
   "outputs": [],
   "source": [
    "summarys = pd.DataFrame(dict(\n",
    "    DEGREE = dict(lcc.degree),\n",
    "    DEGREE_CENTRALITY = nx.degree_centrality(lcc),\n",
    "    EIGENVECTOR = nx.eigenvector_centrality(lcc), \n",
    "    CLOSENESS_CENTRALITY = nx.closeness_centrality(lcc),\n",
    "    BETWEENNESS_CENTRALITY = nx.betweenness_centrality(lcc)\n",
    ")) \n",
    "#code used is from \n",
    "#https://stackoverflow.com/questions/51974825/networkx-pandas-cant-output-the-degree-of-the-nodes-into-a-txt-file-error"
   ]
  },
  {
   "cell_type": "code",
   "execution_count": 108,
   "metadata": {},
   "outputs": [
    {
     "data": {
      "text/html": [
       "<div>\n",
       "<style scoped>\n",
       "    .dataframe tbody tr th:only-of-type {\n",
       "        vertical-align: middle;\n",
       "    }\n",
       "\n",
       "    .dataframe tbody tr th {\n",
       "        vertical-align: top;\n",
       "    }\n",
       "\n",
       "    .dataframe thead th {\n",
       "        text-align: right;\n",
       "    }\n",
       "</style>\n",
       "<table border=\"1\" class=\"dataframe\">\n",
       "  <thead>\n",
       "    <tr style=\"text-align: right;\">\n",
       "      <th></th>\n",
       "      <th>DEGREE</th>\n",
       "      <th>DEGREE_CENTRALITY</th>\n",
       "      <th>EIGENVECTOR</th>\n",
       "      <th>CLOSENESS_CENTRALITY</th>\n",
       "      <th>BETWEENNESS_CENTRALITY</th>\n",
       "    </tr>\n",
       "  </thead>\n",
       "  <tbody>\n",
       "    <tr>\n",
       "      <th>314</th>\n",
       "      <td>127</td>\n",
       "      <td>0.505976</td>\n",
       "      <td>0.251725</td>\n",
       "      <td>0.496047</td>\n",
       "      <td>0.135286</td>\n",
       "    </tr>\n",
       "    <tr>\n",
       "      <th>10</th>\n",
       "      <td>100</td>\n",
       "      <td>0.398406</td>\n",
       "      <td>0.170728</td>\n",
       "      <td>0.470919</td>\n",
       "      <td>0.140121</td>\n",
       "    </tr>\n",
       "    <tr>\n",
       "      <th>192</th>\n",
       "      <td>97</td>\n",
       "      <td>0.386454</td>\n",
       "      <td>0.242733</td>\n",
       "      <td>0.463100</td>\n",
       "      <td>0.057408</td>\n",
       "    </tr>\n",
       "    <tr>\n",
       "      <th>175</th>\n",
       "      <td>81</td>\n",
       "      <td>0.322709</td>\n",
       "      <td>0.175969</td>\n",
       "      <td>0.447415</td>\n",
       "      <td>0.049527</td>\n",
       "    </tr>\n",
       "    <tr>\n",
       "      <th>240</th>\n",
       "      <td>76</td>\n",
       "      <td>0.302789</td>\n",
       "      <td>0.169645</td>\n",
       "      <td>0.458029</td>\n",
       "      <td>0.050219</td>\n",
       "    </tr>\n",
       "    <tr>\n",
       "      <th>...</th>\n",
       "      <td>...</td>\n",
       "      <td>...</td>\n",
       "      <td>...</td>\n",
       "      <td>...</td>\n",
       "      <td>...</td>\n",
       "    </tr>\n",
       "    <tr>\n",
       "      <th>124</th>\n",
       "      <td>2</td>\n",
       "      <td>0.007968</td>\n",
       "      <td>0.008210</td>\n",
       "      <td>0.320562</td>\n",
       "      <td>0.000000</td>\n",
       "    </tr>\n",
       "    <tr>\n",
       "      <th>249</th>\n",
       "      <td>2</td>\n",
       "      <td>0.007968</td>\n",
       "      <td>0.002581</td>\n",
       "      <td>0.285227</td>\n",
       "      <td>0.000000</td>\n",
       "    </tr>\n",
       "    <tr>\n",
       "      <th>141</th>\n",
       "      <td>2</td>\n",
       "      <td>0.007968</td>\n",
       "      <td>0.008210</td>\n",
       "      <td>0.320562</td>\n",
       "      <td>0.000000</td>\n",
       "    </tr>\n",
       "    <tr>\n",
       "      <th>127</th>\n",
       "      <td>2</td>\n",
       "      <td>0.007968</td>\n",
       "      <td>0.002575</td>\n",
       "      <td>0.280134</td>\n",
       "      <td>0.000000</td>\n",
       "    </tr>\n",
       "    <tr>\n",
       "      <th>496</th>\n",
       "      <td>2</td>\n",
       "      <td>0.007968</td>\n",
       "      <td>0.001921</td>\n",
       "      <td>0.264489</td>\n",
       "      <td>0.000000</td>\n",
       "    </tr>\n",
       "  </tbody>\n",
       "</table>\n",
       "<p>252 rows × 5 columns</p>\n",
       "</div>"
      ],
      "text/plain": [
       "     DEGREE  DEGREE_CENTRALITY  EIGENVECTOR  CLOSENESS_CENTRALITY  \\\n",
       "314     127           0.505976     0.251725              0.496047   \n",
       "10      100           0.398406     0.170728              0.470919   \n",
       "192      97           0.386454     0.242733              0.463100   \n",
       "175      81           0.322709     0.175969              0.447415   \n",
       "240      76           0.302789     0.169645              0.458029   \n",
       "..      ...                ...          ...                   ...   \n",
       "124       2           0.007968     0.008210              0.320562   \n",
       "249       2           0.007968     0.002581              0.285227   \n",
       "141       2           0.007968     0.008210              0.320562   \n",
       "127       2           0.007968     0.002575              0.280134   \n",
       "496       2           0.007968     0.001921              0.264489   \n",
       "\n",
       "     BETWEENNESS_CENTRALITY  \n",
       "314                0.135286  \n",
       "10                 0.140121  \n",
       "192                0.057408  \n",
       "175                0.049527  \n",
       "240                0.050219  \n",
       "..                      ...  \n",
       "124                0.000000  \n",
       "249                0.000000  \n",
       "141                0.000000  \n",
       "127                0.000000  \n",
       "496                0.000000  \n",
       "\n",
       "[252 rows x 5 columns]"
      ]
     },
     "execution_count": 108,
     "metadata": {},
     "output_type": "execute_result"
    }
   ],
   "source": [
    "summarys.sort_values(by = 'DEGREE', ascending = False)"
   ]
  },
  {
   "cell_type": "code",
   "execution_count": 109,
   "metadata": {},
   "outputs": [
    {
     "data": {
      "image/png": "[encoded data removed]",
      "text/plain": [
       "<Figure size 432x288 with 4 Axes>"
      ]
     },
     "metadata": {
      "needs_background": "light"
     },
     "output_type": "display_data"
    }
   ],
   "source": [
    "fig, axs = plt.subplots(2, 2)\n",
    "axs[0, 0].hist(summarys['DEGREE_CENTRALITY'])\n",
    "axs[0, 0].set_title('DEGREE_CENTRALITY')\n",
    "axs[0, 1].hist(summarys['EIGENVECTOR'])\n",
    "axs[0, 1].set_title('EIGENVECTOR')\n",
    "axs[1, 0].hist(summarys['CLOSENESS_CENTRALITY'])\n",
    "axs[1, 0].set_title('CLOSENESS_CENTRALITY')\n",
    "axs[1, 1].hist(summarys['BETWEENNESS_CENTRALITY'])\n",
    "axs[1, 1].set_title('BETWEENNESS_CENTRALITY')\n",
    "fig.tight_layout() \n",
    "plt.show()"
   ]
  },
  {
   "cell_type": "markdown",
   "metadata": {},
   "source": [
    "From the summary and plots, we can see that DEGREE_CENTRALITY, EIGENVECTOR and BETWEENNESS_CENTRALITY have high density near 0.<br> The CLOSENESS_CENTRALITY has a shape somewhat normal. "
   ]
  },
  {
   "cell_type": "markdown",
   "metadata": {},
   "source": [
    "We can also check the mean values of the centralities"
   ]
  },
  {
   "cell_type": "code",
   "execution_count": 110,
   "metadata": {},
   "outputs": [
    {
     "data": {
      "text/plain": [
       "DEGREE                    19.944444\n",
       "DEGREE_CENTRALITY          0.079460\n",
       "EIGENVECTOR                0.040200\n",
       "CLOSENESS_CENTRALITY       0.341816\n",
       "BETWEENNESS_CENTRALITY     0.008054\n",
       "dtype: float64"
      ]
     },
     "execution_count": 110,
     "metadata": {},
     "output_type": "execute_result"
    }
   ],
   "source": [
    "summarys.mean()"
   ]
  },
  {
   "cell_type": "markdown",
   "metadata": {},
   "source": [
    "### Conclusion"
   ]
  },
  {
   "cell_type": "markdown",
   "metadata": {},
   "source": [
    "The results are indicating that the nodes in the network are not well connected to each other directly. However, they are well connected indirectly. <br>\n",
    "People in a school may not know each other. They may not be aware that they are close to each other by the people they know mutally"
   ]
  },
  {
   "cell_type": "markdown",
   "metadata": {},
   "source": [
    "Export the graph as a gefx file that can be used by Gephi or other programs for visualization"
   ]
  },
  {
   "cell_type": "code",
   "execution_count": 111,
   "metadata": {},
   "outputs": [],
   "source": [
    "nx.write_gexf(lcc, 'E:/SPS/DATA 620/assignments/emails.gexf')"
   ]
  }
 ],
 "metadata": {
  "kernelspec": {
   "display_name": "Python 3",
   "language": "python",
   "name": "python3"
  },
  "language_info": {
   "codemirror_mode": {
    "name": "ipython",
    "version": 3
   },
   "file_extension": ".py",
   "mimetype": "text/x-python",
   "name": "python",
   "nbconvert_exporter": "python",
   "pygments_lexer": "ipython3",
   "version": "3.8.3"
  }
 },
 "nbformat": 4,
 "nbformat_minor": 4
}
