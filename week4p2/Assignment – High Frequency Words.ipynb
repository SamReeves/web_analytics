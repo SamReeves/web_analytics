{
 "cells": [
  {
   "cell_type": "markdown",
   "metadata": {},
   "source": [
    "# Assignment – High Frequency Words\n",
    "### DATA 620<br>David Moste &emsp; Euclid zhang &emsp; Samuel Reeves  <br>6/20/2021"
   ]
  },
  {
   "cell_type": "markdown",
   "metadata": {},
   "source": [
    "Import required libraries"
   ]
  },
  {
   "cell_type": "code",
   "execution_count": 206,
   "metadata": {},
   "outputs": [],
   "source": [
    "import nltk\n",
    "from nltk import word_tokenize\n",
    "from nltk.corpus import stopwords\n",
    "import requests\n",
    "import re\n",
    "import matplotlib.pyplot as plt"
   ]
  },
  {
   "cell_type": "markdown",
   "metadata": {},
   "source": [
    "### Data"
   ]
  },
  {
   "cell_type": "markdown",
   "metadata": {},
   "source": [
    "The text we use is Chocolate and Cocoa Recipes By Miss Parloa. <br>\n",
    "Downloaded from https://www.ebooksread.com/authors-eng/parloa-and-home-made-candy-by-hill/chocolate-and-cocoa-recipes-8-7.shtml"
   ]
  },
  {
   "cell_type": "code",
   "execution_count": 185,
   "metadata": {},
   "outputs": [],
   "source": [
    "response = requests.get(\"https://raw.githubusercontent.com/ezaccountz/Data_620/main/week%204%20part%202/Chocolate-and-Cocoa--Maria-Parloa-%5Bebooksread.com%5D.txt\").text"
   ]
  },
  {
   "cell_type": "code",
   "execution_count": 186,
   "metadata": {},
   "outputs": [
    {
     "data": {
      "text/plain": [
       "143389"
      ]
     },
     "execution_count": 186,
     "metadata": {},
     "output_type": "execute_result"
    }
   ],
   "source": [
    "len(response)"
   ]
  },
  {
   "cell_type": "code",
   "execution_count": 187,
   "metadata": {},
   "outputs": [],
   "source": [
    "start_indicator = 'Cocoa and Chocolate'\n",
    "end_indicator = 'INDEX TO RECIPES'\n",
    "start = response.find(start_indicator) + len(start_end_indicator) + 1\n",
    "end = response.rfind(end_indicator) - 1\n",
    "raw = response[start: end]"
   ]
  },
  {
   "cell_type": "code",
   "execution_count": 188,
   "metadata": {},
   "outputs": [],
   "source": [
    "tokens = word_tokenize(raw)"
   ]
  },
  {
   "cell_type": "code",
   "execution_count": 189,
   "metadata": {},
   "outputs": [],
   "source": [
    "#Stemmers\n",
    "porter = nltk.PorterStemmer()\n",
    "normalized_tokens = [porter.stem(t) for t in tokens]\n",
    "\n",
    "#Lemmatization\n",
    "wnl = nltk.WordNetLemmatizer()\n",
    "normalized_tokens = [wnl.lemmatize(t) for t in normalized_tokens]"
   ]
  },
  {
   "cell_type": "code",
   "execution_count": 190,
   "metadata": {},
   "outputs": [],
   "source": [
    "words = [w for w in normalized_tokens if w.isalpha()]\n",
    "words = [w.lower() for w in words]"
   ]
  },
  {
   "cell_type": "code",
   "execution_count": 191,
   "metadata": {},
   "outputs": [
    {
     "data": {
      "text/plain": [
       "28216"
      ]
     },
     "execution_count": 191,
     "metadata": {},
     "output_type": "execute_result"
    }
   ],
   "source": [
    "len(normalized_tokens)"
   ]
  },
  {
   "cell_type": "code",
   "execution_count": 192,
   "metadata": {},
   "outputs": [
    {
     "data": {
      "text/plain": [
       "23092"
      ]
     },
     "execution_count": 192,
     "metadata": {},
     "output_type": "execute_result"
    }
   ],
   "source": [
    "total_words = len(words)\n",
    "total_words"
   ]
  },
  {
   "cell_type": "markdown",
   "metadata": {},
   "source": [
    "### Unique Words"
   ]
  },
  {
   "cell_type": "code",
   "execution_count": 193,
   "metadata": {},
   "outputs": [
    {
     "data": {
      "text/plain": [
       "1665"
      ]
     },
     "execution_count": 193,
     "metadata": {},
     "output_type": "execute_result"
    }
   ],
   "source": [
    "len(set(words))"
   ]
  },
  {
   "cell_type": "code",
   "execution_count": 194,
   "metadata": {},
   "outputs": [],
   "source": [
    "freDist = nltk.FreqDist(words)"
   ]
  },
  {
   "cell_type": "code",
   "execution_count": 195,
   "metadata": {},
   "outputs": [],
   "source": [
    "freDist_dataframe = pd.DataFrame(freDist.items(), columns=['word', 'frequency'])\n",
    "freDist_dataframe = freDist_dataframe.sort_values(by = 'frequency', ascending = False)\n",
    "freDist_dataframe.reset_index(inplace = True, drop = True)"
   ]
  },
  {
   "cell_type": "code",
   "execution_count": 196,
   "metadata": {},
   "outputs": [],
   "source": [
    "freDist_dataframe['cumulative frequency'] = freDist_dataframe['frequency'].cumsum()/total_words"
   ]
  },
  {
   "cell_type": "code",
   "execution_count": 197,
   "metadata": {},
   "outputs": [
    {
     "data": {
      "text/html": [
       "<div>\n",
       "<style scoped>\n",
       "    .dataframe tbody tr th:only-of-type {\n",
       "        vertical-align: middle;\n",
       "    }\n",
       "\n",
       "    .dataframe tbody tr th {\n",
       "        vertical-align: top;\n",
       "    }\n",
       "\n",
       "    .dataframe thead th {\n",
       "        text-align: right;\n",
       "    }\n",
       "</style>\n",
       "<table border=\"1\" class=\"dataframe\">\n",
       "  <thead>\n",
       "    <tr style=\"text-align: right;\">\n",
       "      <th></th>\n",
       "      <th>word</th>\n",
       "      <th>frequency</th>\n",
       "      <th>cumulative frequency</th>\n",
       "    </tr>\n",
       "  </thead>\n",
       "  <tbody>\n",
       "    <tr>\n",
       "      <th>0</th>\n",
       "      <td>the</td>\n",
       "      <td>1519</td>\n",
       "      <td>0.065780</td>\n",
       "    </tr>\n",
       "    <tr>\n",
       "      <th>1</th>\n",
       "      <td>of</td>\n",
       "      <td>1343</td>\n",
       "      <td>0.123939</td>\n",
       "    </tr>\n",
       "    <tr>\n",
       "      <th>2</th>\n",
       "      <td>and</td>\n",
       "      <td>1033</td>\n",
       "      <td>0.168673</td>\n",
       "    </tr>\n",
       "    <tr>\n",
       "      <th>3</th>\n",
       "      <td>a</td>\n",
       "      <td>1025</td>\n",
       "      <td>0.213061</td>\n",
       "    </tr>\n",
       "    <tr>\n",
       "      <th>4</th>\n",
       "      <td>in</td>\n",
       "      <td>541</td>\n",
       "      <td>0.236489</td>\n",
       "    </tr>\n",
       "    <tr>\n",
       "      <th>...</th>\n",
       "      <td>...</td>\n",
       "      <td>...</td>\n",
       "      <td>...</td>\n",
       "    </tr>\n",
       "    <tr>\n",
       "      <th>1660</th>\n",
       "      <td>hop</td>\n",
       "      <td>1</td>\n",
       "      <td>0.999827</td>\n",
       "    </tr>\n",
       "    <tr>\n",
       "      <th>1661</th>\n",
       "      <td>extraordinari</td>\n",
       "      <td>1</td>\n",
       "      <td>0.999870</td>\n",
       "    </tr>\n",
       "    <tr>\n",
       "      <th>1662</th>\n",
       "      <td>analyst</td>\n",
       "      <td>1</td>\n",
       "      <td>0.999913</td>\n",
       "    </tr>\n",
       "    <tr>\n",
       "      <th>1663</th>\n",
       "      <td>massachusett</td>\n",
       "      <td>1</td>\n",
       "      <td>0.999957</td>\n",
       "    </tr>\n",
       "    <tr>\n",
       "      <th>1664</th>\n",
       "      <td>emin</td>\n",
       "      <td>1</td>\n",
       "      <td>1.000000</td>\n",
       "    </tr>\n",
       "  </tbody>\n",
       "</table>\n",
       "<p>1665 rows × 3 columns</p>\n",
       "</div>"
      ],
      "text/plain": [
       "               word  frequency  cumulative frequency\n",
       "0               the       1519              0.065780\n",
       "1                of       1343              0.123939\n",
       "2               and       1033              0.168673\n",
       "3                 a       1025              0.213061\n",
       "4                in        541              0.236489\n",
       "...             ...        ...                   ...\n",
       "1660            hop          1              0.999827\n",
       "1661  extraordinari          1              0.999870\n",
       "1662        analyst          1              0.999913\n",
       "1663   massachusett          1              0.999957\n",
       "1664           emin          1              1.000000\n",
       "\n",
       "[1665 rows x 3 columns]"
      ]
     },
     "execution_count": 197,
     "metadata": {},
     "output_type": "execute_result"
    }
   ],
   "source": [
    "freDist_dataframe"
   ]
  },
  {
   "cell_type": "markdown",
   "metadata": {},
   "source": [
    "Number of unique words represent half of the total words in the corpus"
   ]
  },
  {
   "cell_type": "code",
   "execution_count": 198,
   "metadata": {},
   "outputs": [
    {
     "data": {
      "text/plain": [
       "37"
      ]
     },
     "execution_count": 198,
     "metadata": {},
     "output_type": "execute_result"
    }
   ],
   "source": [
    "n_50 = sum(freDist_dataframe['cumulative frequency'] < 0.5)+1\n",
    "n_50"
   ]
  },
  {
   "cell_type": "code",
   "execution_count": 199,
   "metadata": {},
   "outputs": [
    {
     "data": {
      "text/plain": [
       "word                         thi\n",
       "frequency                    112\n",
       "cumulative frequency    0.509051\n",
       "Name: 37, dtype: object"
      ]
     },
     "metadata": {},
     "output_type": "display_data"
    }
   ],
   "source": [
    "display(freDist_dataframe.iloc[n_50])"
   ]
  },
  {
   "cell_type": "markdown",
   "metadata": {},
   "source": [
    "### unique words represent half of the total words"
   ]
  },
  {
   "cell_type": "markdown",
   "metadata": {},
   "source": [
    "### 200 highest frequency words"
   ]
  },
  {
   "cell_type": "code",
   "execution_count": 200,
   "metadata": {},
   "outputs": [
    {
     "data": {
      "text/html": [
       "<div>\n",
       "<style scoped>\n",
       "    .dataframe tbody tr th:only-of-type {\n",
       "        vertical-align: middle;\n",
       "    }\n",
       "\n",
       "    .dataframe tbody tr th {\n",
       "        vertical-align: top;\n",
       "    }\n",
       "\n",
       "    .dataframe thead th {\n",
       "        text-align: right;\n",
       "    }\n",
       "</style>\n",
       "<table border=\"1\" class=\"dataframe\">\n",
       "  <thead>\n",
       "    <tr style=\"text-align: right;\">\n",
       "      <th></th>\n",
       "      <th>0</th>\n",
       "      <th>1</th>\n",
       "      <th>2</th>\n",
       "      <th>3</th>\n",
       "      <th>4</th>\n",
       "      <th>5</th>\n",
       "      <th>6</th>\n",
       "      <th>7</th>\n",
       "      <th>8</th>\n",
       "      <th>9</th>\n",
       "      <th>10</th>\n",
       "      <th>11</th>\n",
       "      <th>12</th>\n",
       "      <th>13</th>\n",
       "      <th>14</th>\n",
       "      <th>15</th>\n",
       "      <th>16</th>\n",
       "      <th>17</th>\n",
       "      <th>18</th>\n",
       "      <th>19</th>\n",
       "    </tr>\n",
       "  </thead>\n",
       "  <tbody>\n",
       "    <tr>\n",
       "      <th>word</th>\n",
       "      <td>the</td>\n",
       "      <td>of</td>\n",
       "      <td>and</td>\n",
       "      <td>a</td>\n",
       "      <td>in</td>\n",
       "      <td>chocol</td>\n",
       "      <td>to</td>\n",
       "      <td>cup</td>\n",
       "      <td>it</td>\n",
       "      <td>sugar</td>\n",
       "      <td>with</td>\n",
       "      <td>or</td>\n",
       "      <td>water</td>\n",
       "      <td>one</td>\n",
       "      <td>is</td>\n",
       "      <td>add</td>\n",
       "      <td>into</td>\n",
       "      <td>stir</td>\n",
       "      <td>for</td>\n",
       "      <td>until</td>\n",
       "    </tr>\n",
       "    <tr>\n",
       "      <th>frequency</th>\n",
       "      <td>1519</td>\n",
       "      <td>1343</td>\n",
       "      <td>1033</td>\n",
       "      <td>1025</td>\n",
       "      <td>541</td>\n",
       "      <td>456</td>\n",
       "      <td>411</td>\n",
       "      <td>322</td>\n",
       "      <td>313</td>\n",
       "      <td>287</td>\n",
       "      <td>259</td>\n",
       "      <td>225</td>\n",
       "      <td>222</td>\n",
       "      <td>220</td>\n",
       "      <td>211</td>\n",
       "      <td>201</td>\n",
       "      <td>187</td>\n",
       "      <td>185</td>\n",
       "      <td>177</td>\n",
       "      <td>168</td>\n",
       "    </tr>\n",
       "  </tbody>\n",
       "</table>\n",
       "</div>"
      ],
      "text/plain": [
       "              0     1     2     3    4       5    6    7    8      9    10  \\\n",
       "word        the    of   and     a   in  chocol   to  cup   it  sugar  with   \n",
       "frequency  1519  1343  1033  1025  541     456  411  322  313    287   259   \n",
       "\n",
       "            11     12   13   14   15    16    17   18     19  \n",
       "word        or  water  one   is  add  into  stir  for  until  \n",
       "frequency  225    222  220  211  201   187   185  177    168  "
      ]
     },
     "metadata": {},
     "output_type": "display_data"
    },
    {
     "data": {
      "text/html": [
       "<div>\n",
       "<style scoped>\n",
       "    .dataframe tbody tr th:only-of-type {\n",
       "        vertical-align: middle;\n",
       "    }\n",
       "\n",
       "    .dataframe tbody tr th {\n",
       "        vertical-align: top;\n",
       "    }\n",
       "\n",
       "    .dataframe thead th {\n",
       "        text-align: right;\n",
       "    }\n",
       "</style>\n",
       "<table border=\"1\" class=\"dataframe\">\n",
       "  <thead>\n",
       "    <tr style=\"text-align: right;\">\n",
       "      <th></th>\n",
       "      <th>20</th>\n",
       "      <th>21</th>\n",
       "      <th>22</th>\n",
       "      <th>23</th>\n",
       "      <th>24</th>\n",
       "      <th>25</th>\n",
       "      <th>26</th>\n",
       "      <th>27</th>\n",
       "      <th>28</th>\n",
       "      <th>29</th>\n",
       "      <th>30</th>\n",
       "      <th>31</th>\n",
       "      <th>32</th>\n",
       "      <th>33</th>\n",
       "      <th>34</th>\n",
       "      <th>35</th>\n",
       "      <th>36</th>\n",
       "      <th>37</th>\n",
       "      <th>38</th>\n",
       "      <th>39</th>\n",
       "    </tr>\n",
       "  </thead>\n",
       "  <tbody>\n",
       "    <tr>\n",
       "      <th>word</th>\n",
       "      <td>on</td>\n",
       "      <td>milk</td>\n",
       "      <td>tablespoon</td>\n",
       "      <td>boil</td>\n",
       "      <td>teaspoon</td>\n",
       "      <td>vanilla</td>\n",
       "      <td>cream</td>\n",
       "      <td>then</td>\n",
       "      <td>baker</td>\n",
       "      <td>be</td>\n",
       "      <td>when</td>\n",
       "      <td>beat</td>\n",
       "      <td>cold</td>\n",
       "      <td>two</td>\n",
       "      <td>put</td>\n",
       "      <td>egg</td>\n",
       "      <td>butter</td>\n",
       "      <td>thi</td>\n",
       "      <td>half</td>\n",
       "      <td>hot</td>\n",
       "    </tr>\n",
       "    <tr>\n",
       "      <th>frequency</th>\n",
       "      <td>161</td>\n",
       "      <td>160</td>\n",
       "      <td>159</td>\n",
       "      <td>154</td>\n",
       "      <td>153</td>\n",
       "      <td>153</td>\n",
       "      <td>140</td>\n",
       "      <td>140</td>\n",
       "      <td>134</td>\n",
       "      <td>131</td>\n",
       "      <td>128</td>\n",
       "      <td>128</td>\n",
       "      <td>127</td>\n",
       "      <td>122</td>\n",
       "      <td>118</td>\n",
       "      <td>117</td>\n",
       "      <td>113</td>\n",
       "      <td>112</td>\n",
       "      <td>111</td>\n",
       "      <td>104</td>\n",
       "    </tr>\n",
       "  </tbody>\n",
       "</table>\n",
       "</div>"
      ],
      "text/plain": [
       "            20    21          22    23        24       25     26    27     28  \\\n",
       "word        on  milk  tablespoon  boil  teaspoon  vanilla  cream  then  baker   \n",
       "frequency  161   160         159   154       153      153    140   140    134   \n",
       "\n",
       "            29    30    31    32   33   34   35      36   37    38   39  \n",
       "word        be  when  beat  cold  two  put  egg  butter  thi  half  hot  \n",
       "frequency  131   128   128   127  122  118  117     113  112   111  104  "
      ]
     },
     "metadata": {},
     "output_type": "display_data"
    },
    {
     "data": {
      "text/html": [
       "<div>\n",
       "<style scoped>\n",
       "    .dataframe tbody tr th:only-of-type {\n",
       "        vertical-align: middle;\n",
       "    }\n",
       "\n",
       "    .dataframe tbody tr th {\n",
       "        vertical-align: top;\n",
       "    }\n",
       "\n",
       "    .dataframe thead th {\n",
       "        text-align: right;\n",
       "    }\n",
       "</style>\n",
       "<table border=\"1\" class=\"dataframe\">\n",
       "  <thead>\n",
       "    <tr style=\"text-align: right;\">\n",
       "      <th></th>\n",
       "      <th>40</th>\n",
       "      <th>41</th>\n",
       "      <th>42</th>\n",
       "      <th>43</th>\n",
       "      <th>44</th>\n",
       "      <th>45</th>\n",
       "      <th>46</th>\n",
       "      <th>47</th>\n",
       "      <th>48</th>\n",
       "      <th>49</th>\n",
       "      <th>50</th>\n",
       "      <th>51</th>\n",
       "      <th>52</th>\n",
       "      <th>53</th>\n",
       "      <th>54</th>\n",
       "      <th>55</th>\n",
       "      <th>56</th>\n",
       "      <th>57</th>\n",
       "      <th>58</th>\n",
       "      <th>59</th>\n",
       "    </tr>\n",
       "  </thead>\n",
       "  <tbody>\n",
       "    <tr>\n",
       "      <th>word</th>\n",
       "      <td>minut</td>\n",
       "      <td>mixtur</td>\n",
       "      <td>cocoa</td>\n",
       "      <td>over</td>\n",
       "      <td>from</td>\n",
       "      <td>pan</td>\n",
       "      <td>cook</td>\n",
       "      <td>melt</td>\n",
       "      <td>fire</td>\n",
       "      <td>use</td>\n",
       "      <td>cake</td>\n",
       "      <td>that</td>\n",
       "      <td>flour</td>\n",
       "      <td>bake</td>\n",
       "      <td>salt</td>\n",
       "      <td>an</td>\n",
       "      <td>pour</td>\n",
       "      <td>three</td>\n",
       "      <td>fondant</td>\n",
       "      <td>white</td>\n",
       "    </tr>\n",
       "    <tr>\n",
       "      <th>frequency</th>\n",
       "      <td>103</td>\n",
       "      <td>101</td>\n",
       "      <td>100</td>\n",
       "      <td>91</td>\n",
       "      <td>90</td>\n",
       "      <td>86</td>\n",
       "      <td>85</td>\n",
       "      <td>82</td>\n",
       "      <td>81</td>\n",
       "      <td>80</td>\n",
       "      <td>77</td>\n",
       "      <td>76</td>\n",
       "      <td>74</td>\n",
       "      <td>74</td>\n",
       "      <td>73</td>\n",
       "      <td>72</td>\n",
       "      <td>72</td>\n",
       "      <td>71</td>\n",
       "      <td>70</td>\n",
       "      <td>69</td>\n",
       "    </tr>\n",
       "  </tbody>\n",
       "</table>\n",
       "</div>"
      ],
      "text/plain": [
       "              40      41     42    43    44   45    46    47    48   49    50  \\\n",
       "word       minut  mixtur  cocoa  over  from  pan  cook  melt  fire  use  cake   \n",
       "frequency    103     101    100    91    90   86    85    82    81   80    77   \n",
       "\n",
       "             51     52    53    54  55    56     57       58     59  \n",
       "word       that  flour  bake  salt  an  pour  three  fondant  white  \n",
       "frequency    76     74    74    73  72    72     71       70     69  "
      ]
     },
     "metadata": {},
     "output_type": "display_data"
    },
    {
     "data": {
      "text/html": [
       "<div>\n",
       "<style scoped>\n",
       "    .dataframe tbody tr th:only-of-type {\n",
       "        vertical-align: middle;\n",
       "    }\n",
       "\n",
       "    .dataframe tbody tr th {\n",
       "        vertical-align: top;\n",
       "    }\n",
       "\n",
       "    .dataframe thead th {\n",
       "        text-align: right;\n",
       "    }\n",
       "</style>\n",
       "<table border=\"1\" class=\"dataframe\">\n",
       "  <thead>\n",
       "    <tr style=\"text-align: right;\">\n",
       "      <th></th>\n",
       "      <th>60</th>\n",
       "      <th>61</th>\n",
       "      <th>62</th>\n",
       "      <th>63</th>\n",
       "      <th>64</th>\n",
       "      <th>65</th>\n",
       "      <th>66</th>\n",
       "      <th>67</th>\n",
       "      <th>68</th>\n",
       "      <th>69</th>\n",
       "      <th>70</th>\n",
       "      <th>71</th>\n",
       "      <th>72</th>\n",
       "      <th>73</th>\n",
       "      <th>74</th>\n",
       "      <th>75</th>\n",
       "      <th>76</th>\n",
       "      <th>77</th>\n",
       "      <th>78</th>\n",
       "      <th>79</th>\n",
       "    </tr>\n",
       "  </thead>\n",
       "  <tbody>\n",
       "    <tr>\n",
       "      <th>word</th>\n",
       "      <td>not</td>\n",
       "      <td>place</td>\n",
       "      <td>small</td>\n",
       "      <td>are</td>\n",
       "      <td>will</td>\n",
       "      <td>mix</td>\n",
       "      <td>let</td>\n",
       "      <td>about</td>\n",
       "      <td>at</td>\n",
       "      <td>powder</td>\n",
       "      <td>have</td>\n",
       "      <td>make</td>\n",
       "      <td>littl</td>\n",
       "      <td>if</td>\n",
       "      <td>cut</td>\n",
       "      <td>veri</td>\n",
       "      <td>drop</td>\n",
       "      <td>turn</td>\n",
       "      <td>cool</td>\n",
       "      <td>by</td>\n",
       "    </tr>\n",
       "    <tr>\n",
       "      <th>frequency</th>\n",
       "      <td>67</td>\n",
       "      <td>64</td>\n",
       "      <td>62</td>\n",
       "      <td>62</td>\n",
       "      <td>62</td>\n",
       "      <td>62</td>\n",
       "      <td>62</td>\n",
       "      <td>62</td>\n",
       "      <td>61</td>\n",
       "      <td>58</td>\n",
       "      <td>57</td>\n",
       "      <td>57</td>\n",
       "      <td>56</td>\n",
       "      <td>56</td>\n",
       "      <td>55</td>\n",
       "      <td>54</td>\n",
       "      <td>53</td>\n",
       "      <td>53</td>\n",
       "      <td>52</td>\n",
       "      <td>51</td>\n",
       "    </tr>\n",
       "  </tbody>\n",
       "</table>\n",
       "</div>"
      ],
      "text/plain": [
       "            60     61     62   63    64   65   66     67  68      69    70  \\\n",
       "word       not  place  small  are  will  mix  let  about  at  powder  have   \n",
       "frequency   67     64     62   62    62   62   62     62  61      58    57   \n",
       "\n",
       "             71     72  73   74    75    76    77    78  79  \n",
       "word       make  littl  if  cut  veri  drop  turn  cool  by  \n",
       "frequency    57     56  56   55    54    53    53    52  51  "
      ]
     },
     "metadata": {},
     "output_type": "display_data"
    },
    {
     "data": {
      "text/html": [
       "<div>\n",
       "<style scoped>\n",
       "    .dataframe tbody tr th:only-of-type {\n",
       "        vertical-align: middle;\n",
       "    }\n",
       "\n",
       "    .dataframe tbody tr th {\n",
       "        vertical-align: top;\n",
       "    }\n",
       "\n",
       "    .dataframe thead th {\n",
       "        text-align: right;\n",
       "    }\n",
       "</style>\n",
       "<table border=\"1\" class=\"dataframe\">\n",
       "  <thead>\n",
       "    <tr style=\"text-align: right;\">\n",
       "      <th></th>\n",
       "      <th>80</th>\n",
       "      <th>81</th>\n",
       "      <th>82</th>\n",
       "      <th>83</th>\n",
       "      <th>84</th>\n",
       "      <th>85</th>\n",
       "      <th>86</th>\n",
       "      <th>87</th>\n",
       "      <th>88</th>\n",
       "      <th>89</th>\n",
       "      <th>90</th>\n",
       "      <th>91</th>\n",
       "      <th>92</th>\n",
       "      <th>93</th>\n",
       "      <th>94</th>\n",
       "      <th>95</th>\n",
       "      <th>96</th>\n",
       "      <th>97</th>\n",
       "      <th>98</th>\n",
       "      <th>99</th>\n",
       "    </tr>\n",
       "  </thead>\n",
       "  <tbody>\n",
       "    <tr>\n",
       "      <th>word</th>\n",
       "      <td>ounc</td>\n",
       "      <td>them</td>\n",
       "      <td>walter</td>\n",
       "      <td>which</td>\n",
       "      <td>ha</td>\n",
       "      <td>squar</td>\n",
       "      <td>illustr</td>\n",
       "      <td>all</td>\n",
       "      <td>set</td>\n",
       "      <td>saucepan</td>\n",
       "      <td>candi</td>\n",
       "      <td>level</td>\n",
       "      <td>ball</td>\n",
       "      <td>no</td>\n",
       "      <td>serv</td>\n",
       "      <td>enough</td>\n",
       "      <td>dip</td>\n",
       "      <td>time</td>\n",
       "      <td>smooth</td>\n",
       "      <td>been</td>\n",
       "    </tr>\n",
       "    <tr>\n",
       "      <th>frequency</th>\n",
       "      <td>51</td>\n",
       "      <td>50</td>\n",
       "      <td>50</td>\n",
       "      <td>49</td>\n",
       "      <td>49</td>\n",
       "      <td>48</td>\n",
       "      <td>46</td>\n",
       "      <td>46</td>\n",
       "      <td>45</td>\n",
       "      <td>45</td>\n",
       "      <td>45</td>\n",
       "      <td>44</td>\n",
       "      <td>43</td>\n",
       "      <td>43</td>\n",
       "      <td>42</td>\n",
       "      <td>42</td>\n",
       "      <td>42</td>\n",
       "      <td>42</td>\n",
       "      <td>41</td>\n",
       "      <td>41</td>\n",
       "    </tr>\n",
       "  </tbody>\n",
       "</table>\n",
       "</div>"
      ],
      "text/plain": [
       "             80    81      82     83  84     85       86   87   88        89  \\\n",
       "word       ounc  them  walter  which  ha  squar  illustr  all  set  saucepan   \n",
       "frequency    51    50      50     49  49     48       46   46   45        45   \n",
       "\n",
       "              90     91    92  93    94      95   96    97      98    99  \n",
       "word       candi  level  ball  no  serv  enough  dip  time  smooth  been  \n",
       "frequency     45     44    43  43    42      42   42    42      41    41  "
      ]
     },
     "metadata": {},
     "output_type": "display_data"
    },
    {
     "data": {
      "text/html": [
       "<div>\n",
       "<style scoped>\n",
       "    .dataframe tbody tr th:only-of-type {\n",
       "        vertical-align: middle;\n",
       "    }\n",
       "\n",
       "    .dataframe tbody tr th {\n",
       "        vertical-align: top;\n",
       "    }\n",
       "\n",
       "    .dataframe thead th {\n",
       "        text-align: right;\n",
       "    }\n",
       "</style>\n",
       "<table border=\"1\" class=\"dataframe\">\n",
       "  <thead>\n",
       "    <tr style=\"text-align: right;\">\n",
       "      <th></th>\n",
       "      <th>100</th>\n",
       "      <th>101</th>\n",
       "      <th>102</th>\n",
       "      <th>103</th>\n",
       "      <th>104</th>\n",
       "      <th>105</th>\n",
       "      <th>106</th>\n",
       "      <th>107</th>\n",
       "      <th>108</th>\n",
       "      <th>109</th>\n",
       "      <th>110</th>\n",
       "      <th>111</th>\n",
       "      <th>112</th>\n",
       "      <th>113</th>\n",
       "      <th>114</th>\n",
       "      <th>115</th>\n",
       "      <th>116</th>\n",
       "      <th>117</th>\n",
       "      <th>118</th>\n",
       "      <th>119</th>\n",
       "    </tr>\n",
       "  </thead>\n",
       "  <tbody>\n",
       "    <tr>\n",
       "      <th>word</th>\n",
       "      <td>flavor</td>\n",
       "      <td>syrup</td>\n",
       "      <td>take</td>\n",
       "      <td>piec</td>\n",
       "      <td>togeth</td>\n",
       "      <td>oven</td>\n",
       "      <td>prepar</td>\n",
       "      <td>almond</td>\n",
       "      <td>pound</td>\n",
       "      <td>thick</td>\n",
       "      <td>coat</td>\n",
       "      <td>they</td>\n",
       "      <td>premium</td>\n",
       "      <td>nut</td>\n",
       "      <td>out</td>\n",
       "      <td>remov</td>\n",
       "      <td>but</td>\n",
       "      <td>more</td>\n",
       "      <td>well</td>\n",
       "      <td>dot</td>\n",
       "    </tr>\n",
       "    <tr>\n",
       "      <th>frequency</th>\n",
       "      <td>41</td>\n",
       "      <td>40</td>\n",
       "      <td>40</td>\n",
       "      <td>40</td>\n",
       "      <td>40</td>\n",
       "      <td>40</td>\n",
       "      <td>39</td>\n",
       "      <td>39</td>\n",
       "      <td>38</td>\n",
       "      <td>38</td>\n",
       "      <td>37</td>\n",
       "      <td>36</td>\n",
       "      <td>36</td>\n",
       "      <td>35</td>\n",
       "      <td>35</td>\n",
       "      <td>35</td>\n",
       "      <td>35</td>\n",
       "      <td>35</td>\n",
       "      <td>35</td>\n",
       "      <td>35</td>\n",
       "    </tr>\n",
       "  </tbody>\n",
       "</table>\n",
       "</div>"
      ],
      "text/plain": [
       "              100    101   102   103     104   105     106     107    108  \\\n",
       "word       flavor  syrup  take  piec  togeth  oven  prepar  almond  pound   \n",
       "frequency      41     40    40    40      40    40      39      39     38   \n",
       "\n",
       "             109   110   111      112  113  114    115  116   117   118  119  \n",
       "word       thick  coat  they  premium  nut  out  remov  but  more  well  dot  \n",
       "frequency     38    37    36       36   35   35     35   35    35    35   35  "
      ]
     },
     "metadata": {},
     "output_type": "display_data"
    },
    {
     "data": {
      "text/html": [
       "<div>\n",
       "<style scoped>\n",
       "    .dataframe tbody tr th:only-of-type {\n",
       "        vertical-align: middle;\n",
       "    }\n",
       "\n",
       "    .dataframe tbody tr th {\n",
       "        vertical-align: top;\n",
       "    }\n",
       "\n",
       "    .dataframe thead th {\n",
       "        text-align: right;\n",
       "    }\n",
       "</style>\n",
       "<table border=\"1\" class=\"dataframe\">\n",
       "  <thead>\n",
       "    <tr style=\"text-align: right;\">\n",
       "      <th></th>\n",
       "      <th>120</th>\n",
       "      <th>121</th>\n",
       "      <th>122</th>\n",
       "      <th>123</th>\n",
       "      <th>124</th>\n",
       "      <th>125</th>\n",
       "      <th>126</th>\n",
       "      <th>127</th>\n",
       "      <th>128</th>\n",
       "      <th>129</th>\n",
       "      <th>130</th>\n",
       "      <th>131</th>\n",
       "      <th>132</th>\n",
       "      <th>133</th>\n",
       "      <th>134</th>\n",
       "      <th>135</th>\n",
       "      <th>136</th>\n",
       "      <th>137</th>\n",
       "      <th>138</th>\n",
       "      <th>139</th>\n",
       "    </tr>\n",
       "  </thead>\n",
       "  <tbody>\n",
       "    <tr>\n",
       "      <th>word</th>\n",
       "      <td>sift</td>\n",
       "      <td>ice</td>\n",
       "      <td>fine</td>\n",
       "      <td>each</td>\n",
       "      <td>packag</td>\n",
       "      <td>cover</td>\n",
       "      <td>four</td>\n",
       "      <td>paper</td>\n",
       "      <td>dish</td>\n",
       "      <td>glucos</td>\n",
       "      <td>pint</td>\n",
       "      <td>other</td>\n",
       "      <td>extract</td>\n",
       "      <td>made</td>\n",
       "      <td>these</td>\n",
       "      <td>may</td>\n",
       "      <td>lb</td>\n",
       "      <td>after</td>\n",
       "      <td>soft</td>\n",
       "      <td>top</td>\n",
       "    </tr>\n",
       "    <tr>\n",
       "      <th>frequency</th>\n",
       "      <td>34</td>\n",
       "      <td>34</td>\n",
       "      <td>33</td>\n",
       "      <td>33</td>\n",
       "      <td>33</td>\n",
       "      <td>32</td>\n",
       "      <td>31</td>\n",
       "      <td>31</td>\n",
       "      <td>31</td>\n",
       "      <td>31</td>\n",
       "      <td>31</td>\n",
       "      <td>31</td>\n",
       "      <td>31</td>\n",
       "      <td>30</td>\n",
       "      <td>30</td>\n",
       "      <td>30</td>\n",
       "      <td>30</td>\n",
       "      <td>29</td>\n",
       "      <td>29</td>\n",
       "      <td>29</td>\n",
       "    </tr>\n",
       "  </tbody>\n",
       "</table>\n",
       "</div>"
      ],
      "text/plain": [
       "            120  121   122   123     124    125   126    127   128     129  \\\n",
       "word       sift  ice  fine  each  packag  cover  four  paper  dish  glucos   \n",
       "frequency    34   34    33    33      33     32    31     31    31      31   \n",
       "\n",
       "            130    131      132   133    134  135 136    137   138  139  \n",
       "word       pint  other  extract  made  these  may  lb  after  soft  top  \n",
       "frequency    31     31       31    30     30   30  30     29    29   29  "
      ]
     },
     "metadata": {},
     "output_type": "display_data"
    },
    {
     "data": {
      "text/html": [
       "<div>\n",
       "<style scoped>\n",
       "    .dataframe tbody tr th:only-of-type {\n",
       "        vertical-align: middle;\n",
       "    }\n",
       "\n",
       "    .dataframe tbody tr th {\n",
       "        vertical-align: top;\n",
       "    }\n",
       "\n",
       "    .dataframe thead th {\n",
       "        text-align: right;\n",
       "    }\n",
       "</style>\n",
       "<table border=\"1\" class=\"dataframe\">\n",
       "  <thead>\n",
       "    <tr style=\"text-align: right;\">\n",
       "      <th></th>\n",
       "      <th>140</th>\n",
       "      <th>141</th>\n",
       "      <th>142</th>\n",
       "      <th>143</th>\n",
       "      <th>144</th>\n",
       "      <th>145</th>\n",
       "      <th>146</th>\n",
       "      <th>147</th>\n",
       "      <th>148</th>\n",
       "      <th>149</th>\n",
       "      <th>150</th>\n",
       "      <th>151</th>\n",
       "      <th>152</th>\n",
       "      <th>153</th>\n",
       "      <th>154</th>\n",
       "      <th>155</th>\n",
       "      <th>156</th>\n",
       "      <th>157</th>\n",
       "      <th>158</th>\n",
       "      <th>159</th>\n",
       "    </tr>\n",
       "  </thead>\n",
       "  <tbody>\n",
       "    <tr>\n",
       "      <th>word</th>\n",
       "      <td>whip</td>\n",
       "      <td>quart</td>\n",
       "      <td>gradual</td>\n",
       "      <td>granul</td>\n",
       "      <td>should</td>\n",
       "      <td>bowl</td>\n",
       "      <td>dissolv</td>\n",
       "      <td>roll</td>\n",
       "      <td>marbl</td>\n",
       "      <td>moder</td>\n",
       "      <td>onto</td>\n",
       "      <td>past</td>\n",
       "      <td>fudg</td>\n",
       "      <td>yolk</td>\n",
       "      <td>hour</td>\n",
       "      <td>inch</td>\n",
       "      <td>constantli</td>\n",
       "      <td>begin</td>\n",
       "      <td>stiff</td>\n",
       "      <td>beaten</td>\n",
       "    </tr>\n",
       "    <tr>\n",
       "      <th>frequency</th>\n",
       "      <td>28</td>\n",
       "      <td>28</td>\n",
       "      <td>28</td>\n",
       "      <td>28</td>\n",
       "      <td>28</td>\n",
       "      <td>27</td>\n",
       "      <td>27</td>\n",
       "      <td>27</td>\n",
       "      <td>26</td>\n",
       "      <td>26</td>\n",
       "      <td>26</td>\n",
       "      <td>26</td>\n",
       "      <td>26</td>\n",
       "      <td>26</td>\n",
       "      <td>25</td>\n",
       "      <td>25</td>\n",
       "      <td>24</td>\n",
       "      <td>24</td>\n",
       "      <td>24</td>\n",
       "      <td>24</td>\n",
       "    </tr>\n",
       "  </tbody>\n",
       "</table>\n",
       "</div>"
      ],
      "text/plain": [
       "            140    141      142     143     144   145      146   147    148  \\\n",
       "word       whip  quart  gradual  granul  should  bowl  dissolv  roll  marbl   \n",
       "frequency    28     28       28      28      28    27       27    27     26   \n",
       "\n",
       "             149   150   151   152   153   154   155         156    157  \\\n",
       "word       moder  onto  past  fudg  yolk  hour  inch  constantli  begin   \n",
       "frequency     26    26    26    26    26    25    25          24     24   \n",
       "\n",
       "             158     159  \n",
       "word       stiff  beaten  \n",
       "frequency     24      24  "
      ]
     },
     "metadata": {},
     "output_type": "display_data"
    },
    {
     "data": {
      "text/html": [
       "<div>\n",
       "<style scoped>\n",
       "    .dataframe tbody tr th:only-of-type {\n",
       "        vertical-align: middle;\n",
       "    }\n",
       "\n",
       "    .dataframe tbody tr th {\n",
       "        vertical-align: top;\n",
       "    }\n",
       "\n",
       "    .dataframe thead th {\n",
       "        text-align: right;\n",
       "    }\n",
       "</style>\n",
       "<table border=\"1\" class=\"dataframe\">\n",
       "  <thead>\n",
       "    <tr style=\"text-align: right;\">\n",
       "      <th></th>\n",
       "      <th>160</th>\n",
       "      <th>161</th>\n",
       "      <th>162</th>\n",
       "      <th>163</th>\n",
       "      <th>164</th>\n",
       "      <th>165</th>\n",
       "      <th>166</th>\n",
       "      <th>167</th>\n",
       "      <th>168</th>\n",
       "      <th>169</th>\n",
       "      <th>170</th>\n",
       "      <th>171</th>\n",
       "      <th>172</th>\n",
       "      <th>173</th>\n",
       "      <th>174</th>\n",
       "      <th>175</th>\n",
       "      <th>176</th>\n",
       "      <th>177</th>\n",
       "      <th>178</th>\n",
       "      <th>179</th>\n",
       "    </tr>\n",
       "  </thead>\n",
       "  <tbody>\n",
       "    <tr>\n",
       "      <th>word</th>\n",
       "      <td>spoon</td>\n",
       "      <td>pure</td>\n",
       "      <td>shape</td>\n",
       "      <td>stand</td>\n",
       "      <td>can</td>\n",
       "      <td>fork</td>\n",
       "      <td>pud</td>\n",
       "      <td>caramel</td>\n",
       "      <td>mould</td>\n",
       "      <td>first</td>\n",
       "      <td>up</td>\n",
       "      <td>so</td>\n",
       "      <td>chop</td>\n",
       "      <td>cinnamon</td>\n",
       "      <td>good</td>\n",
       "      <td>do</td>\n",
       "      <td>everi</td>\n",
       "      <td>side</td>\n",
       "      <td>cloth</td>\n",
       "      <td>cornstarch</td>\n",
       "    </tr>\n",
       "    <tr>\n",
       "      <th>frequency</th>\n",
       "      <td>23</td>\n",
       "      <td>23</td>\n",
       "      <td>23</td>\n",
       "      <td>23</td>\n",
       "      <td>23</td>\n",
       "      <td>22</td>\n",
       "      <td>22</td>\n",
       "      <td>22</td>\n",
       "      <td>22</td>\n",
       "      <td>21</td>\n",
       "      <td>21</td>\n",
       "      <td>21</td>\n",
       "      <td>21</td>\n",
       "      <td>21</td>\n",
       "      <td>21</td>\n",
       "      <td>21</td>\n",
       "      <td>21</td>\n",
       "      <td>21</td>\n",
       "      <td>21</td>\n",
       "      <td>20</td>\n",
       "    </tr>\n",
       "  </tbody>\n",
       "</table>\n",
       "</div>"
      ],
      "text/plain": [
       "             160   161    162    163  164   165  166      167    168    169  \\\n",
       "word       spoon  pure  shape  stand  can  fork  pud  caramel  mould  first   \n",
       "frequency     23    23     23     23   23    22   22       22     22     21   \n",
       "\n",
       "          170 171   172       173   174 175    176   177    178         179  \n",
       "word       up  so  chop  cinnamon  good  do  everi  side  cloth  cornstarch  \n",
       "frequency  21  21    21        21    21  21     21    21     21          20  "
      ]
     },
     "metadata": {},
     "output_type": "display_data"
    },
    {
     "data": {
      "text/html": [
       "<div>\n",
       "<style scoped>\n",
       "    .dataframe tbody tr th:only-of-type {\n",
       "        vertical-align: middle;\n",
       "    }\n",
       "\n",
       "    .dataframe tbody tr th {\n",
       "        vertical-align: top;\n",
       "    }\n",
       "\n",
       "    .dataframe thead th {\n",
       "        text-align: right;\n",
       "    }\n",
       "</style>\n",
       "<table border=\"1\" class=\"dataframe\">\n",
       "  <thead>\n",
       "    <tr style=\"text-align: right;\">\n",
       "      <th></th>\n",
       "      <th>180</th>\n",
       "      <th>181</th>\n",
       "      <th>182</th>\n",
       "      <th>183</th>\n",
       "      <th>184</th>\n",
       "      <th>185</th>\n",
       "      <th>186</th>\n",
       "      <th>187</th>\n",
       "      <th>188</th>\n",
       "      <th>189</th>\n",
       "      <th>190</th>\n",
       "      <th>191</th>\n",
       "      <th>192</th>\n",
       "      <th>193</th>\n",
       "      <th>194</th>\n",
       "      <th>195</th>\n",
       "      <th>196</th>\n",
       "      <th>197</th>\n",
       "      <th>198</th>\n",
       "      <th>199</th>\n",
       "    </tr>\n",
       "  </thead>\n",
       "  <tbody>\n",
       "    <tr>\n",
       "      <th>word</th>\n",
       "      <td>oil</td>\n",
       "      <td>spread</td>\n",
       "      <td>firm</td>\n",
       "      <td>five</td>\n",
       "      <td>pinch</td>\n",
       "      <td>layer</td>\n",
       "      <td>thin</td>\n",
       "      <td>same</td>\n",
       "      <td>part</td>\n",
       "      <td>glossi</td>\n",
       "      <td>center</td>\n",
       "      <td>gelatin</td>\n",
       "      <td>harden</td>\n",
       "      <td>ad</td>\n",
       "      <td>while</td>\n",
       "      <td>form</td>\n",
       "      <td>fill</td>\n",
       "      <td>few</td>\n",
       "      <td>now</td>\n",
       "      <td>nearli</td>\n",
       "    </tr>\n",
       "    <tr>\n",
       "      <th>frequency</th>\n",
       "      <td>20</td>\n",
       "      <td>20</td>\n",
       "      <td>20</td>\n",
       "      <td>20</td>\n",
       "      <td>20</td>\n",
       "      <td>19</td>\n",
       "      <td>19</td>\n",
       "      <td>19</td>\n",
       "      <td>19</td>\n",
       "      <td>19</td>\n",
       "      <td>19</td>\n",
       "      <td>19</td>\n",
       "      <td>19</td>\n",
       "      <td>18</td>\n",
       "      <td>18</td>\n",
       "      <td>18</td>\n",
       "      <td>18</td>\n",
       "      <td>18</td>\n",
       "      <td>18</td>\n",
       "      <td>18</td>\n",
       "    </tr>\n",
       "  </tbody>\n",
       "</table>\n",
       "</div>"
      ],
      "text/plain": [
       "           180     181   182   183    184    185   186   187   188     189  \\\n",
       "word       oil  spread  firm  five  pinch  layer  thin  same  part  glossi   \n",
       "frequency   20      20    20    20     20     19    19    19    19      19   \n",
       "\n",
       "              190      191     192 193    194   195   196  197  198     199  \n",
       "word       center  gelatin  harden  ad  while  form  fill  few  now  nearli  \n",
       "frequency      19       19      19  18     18    18    18   18   18      18  "
      ]
     },
     "metadata": {},
     "output_type": "display_data"
    }
   ],
   "source": [
    "for i in range(10):\n",
    "    display(freDist_dataframe.iloc[0+i*20:20+i*20, 0:2].T)"
   ]
  },
  {
   "cell_type": "markdown",
   "metadata": {},
   "source": [
    "### graph that shows the relative frequency of these 200 words"
   ]
  },
  {
   "cell_type": "code",
   "execution_count": 201,
   "metadata": {},
   "outputs": [
    {
     "data": {
      "image/png": "[encoded data removed]",
      "text/plain": [
       "<Figure size 1440x720 with 1 Axes>"
      ]
     },
     "metadata": {
      "needs_background": "light"
     },
     "output_type": "display_data"
    }
   ],
   "source": [
    "plt.figure(figsize=(20, 10))\n",
    "freDist.plot(200)\n",
    "plt.show()"
   ]
  },
  {
   "cell_type": "markdown",
   "metadata": {},
   "source": [
    "### Zipf’s law"
   ]
  },
  {
   "cell_type": "markdown",
   "metadata": {},
   "source": [
    "Zipf’s Law: Let f(w) be the frequency of a word w in free text. Suppose that all\n",
    "the words of a text are ranked according to their frequency, with the most frequent\n",
    "word first. Zipf’s Law states that the frequency of a word type is inversely\n",
    "proportional to its rank (i.e., f × r = k, for some constant k)."
   ]
  },
  {
   "cell_type": "markdown",
   "metadata": {},
   "source": [
    "Assume that the distribution follow Zupf's law. Then the constant should be close to frequency(rank 1 word)"
   ]
  },
  {
   "cell_type": "code",
   "execution_count": 202,
   "metadata": {},
   "outputs": [
    {
     "data": {
      "text/plain": [
       "1519"
      ]
     },
     "execution_count": 202,
     "metadata": {},
     "output_type": "execute_result"
    }
   ],
   "source": [
    "k = freDist_dataframe.iloc[0,1]\n",
    "k"
   ]
  },
  {
   "cell_type": "markdown",
   "metadata": {},
   "source": [
    "calculate the frequency of the remaining words based on k"
   ]
  },
  {
   "cell_type": "code",
   "execution_count": 203,
   "metadata": {},
   "outputs": [],
   "source": [
    "k_frequency = [freDist_dataframe.iloc[0,1]]\n",
    "for i in range(2,201):\n",
    "    k_frequency.append(k/i)"
   ]
  },
  {
   "cell_type": "code",
   "execution_count": 204,
   "metadata": {},
   "outputs": [
    {
     "data": {
      "text/plain": [
       "0      1519\n",
       "1      1343\n",
       "2      1033\n",
       "3      1025\n",
       "4       541\n",
       "       ... \n",
       "195      18\n",
       "196      18\n",
       "197      18\n",
       "198      18\n",
       "199      18\n",
       "Name: frequency, Length: 200, dtype: int64"
      ]
     },
     "execution_count": 204,
     "metadata": {},
     "output_type": "execute_result"
    }
   ],
   "source": [
    "freDist_dataframe['frequency'][0:200]"
   ]
  },
  {
   "cell_type": "code",
   "execution_count": 205,
   "metadata": {},
   "outputs": [
    {
     "data": {
      "image/png": "[encoded data removed]",
      "text/plain": [
       "<Figure size 1440x720 with 1 Axes>"
      ]
     },
     "metadata": {
      "needs_background": "light"
     },
     "output_type": "display_data"
    }
   ],
   "source": [
    "plt.figure(figsize=(20, 10))\n",
    "plt.plot(range(1,201), k_frequency)\n",
    "plt.plot(range(1,201), freDist_dataframe['frequency'][0:200])\n",
    "plt.legend([\"Projected Frequency\", \"Actual Frequencey\"], prop={'size': 30})\n",
    "plt.show()"
   ]
  },
  {
   "cell_type": "markdown",
   "metadata": {},
   "source": [
    "The actual frequency distribution is very close to Zipf’s Law"
   ]
  },
  {
   "cell_type": "markdown",
   "metadata": {},
   "source": [
    "### In what ways do you think the frequency of the words in this corpus differ from “all words in all corpora.”"
   ]
  },
  {
   "cell_type": "markdown",
   "metadata": {},
   "source": [
    "The text we selected is Chocolate and Cocoa Recipes. As we see, most of the words in the corpus are food such as sugar and milk, and cooking tools such as cup and spoon. These words do not have such high frequency in texts of other topics. Vice versa, some high frequency words in the texts of other topic may not appear here. For example, the instruments in a book about music"
   ]
  },
  {
   "cell_type": "code",
   "execution_count": null,
   "metadata": {},
   "outputs": [],
   "source": []
  }
 ],
 "metadata": {
  "kernelspec": {
   "display_name": "Python 3",
   "language": "python",
   "name": "python3"
  },
  "language_info": {
   "codemirror_mode": {
    "name": "ipython",
    "version": 3
   },
   "file_extension": ".py",
   "mimetype": "text/x-python",
   "name": "python",
   "nbconvert_exporter": "python",
   "pygments_lexer": "ipython3",
   "version": "3.8.3"
  }
 },
 "nbformat": 4,
 "nbformat_minor": 4
}
