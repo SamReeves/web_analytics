{
 "cells": [
  {
   "cell_type": "markdown",
   "metadata": {},
   "source": [
    "# Final Project Proposal - Plan A\n",
    "### DATA 620 David Moste ~ Euclid zhang ~ Samuel Reeves\n",
    "***\n",
    "\n",
    "# Network Analysis: Business Investment in Myanmar"
   ]
  },
  {
   "cell_type": "markdown",
   "metadata": {},
   "source": [
    "## Question\n",
    "\n",
    "***\n",
    "\n",
    "Can we discover useful information about people or groups who operate lots of business in Myanmar or accept investment from abroad?\n"
   ]
  },
  {
   "cell_type": "markdown",
   "metadata": {},
   "source": [
    "## Data Description\n",
    "\n",
    "***\n",
    "\n",
    "There are two large leaks of information from this area:\n",
    "\n",
    "#### 1. Myanmar Financials\n",
    "This was the first leak, which details an extremely large amount of information about incorporated business, legal tenders, and political candidates in Myanmar.  We will not use the information concerning the political candidates because it is often in Burmese script.  We will not use information concerning the legal tenders, because they are just cached web pages with inconclusive information.  We will be using information on ~250k incorporated businesses, stored in JSON file format.\n",
    "\n",
    "#### 2. Myanmar Investments\n",
    "This is a large trove of information concerning foreign direct investment into Myanmar.  It is also written in English and stored in JSON file format.\n"
   ]
  },
  {
   "cell_type": "markdown",
   "metadata": {},
   "source": [
    "## Method\n",
    "\n",
    "***\n",
    "\n",
    "We will be using network analysis methods from the beginning portion of this course, mostly detailed in Social Network Analysis for startups.  By establishing the names of founders, investors, and directors as nodes, along with the names of enterprises these people participate in, we hope to weight the edges accordingly and use the \"island method\" to discover powerful people and groups.  By linking them to outside investors, we will hopefully discover a foothold on which to make further research and apply sanctions.\n"
   ]
  }
 ],
 "metadata": {
  "kernelspec": {
   "display_name": "Python 3",
   "language": "python",
   "name": "python3"
  },
  "language_info": {
   "codemirror_mode": {
    "name": "ipython",
    "version": 3
   },
   "file_extension": ".py",
   "mimetype": "text/x-python",
   "name": "python",
   "nbconvert_exporter": "python",
   "pygments_lexer": "ipython3",
   "version": "3.8.10"
  }
 },
 "nbformat": 4,
 "nbformat_minor": 4
}
