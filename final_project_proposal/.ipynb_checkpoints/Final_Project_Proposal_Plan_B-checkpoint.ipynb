{
 "cells": [
  {
   "cell_type": "markdown",
   "metadata": {},
   "source": [
    "# Final Project Proposal - Plan B\n",
    "### DATA 620 <br> David Moste &emsp; Euclid zhang &emsp; Samuel Reeves <br> 7/10/2021"
   ]
  },
  {
   "cell_type": "markdown",
   "metadata": {},
   "source": [
    "### Aspect Sentiment Analysis - restaurants"
   ]
  },
  {
   "cell_type": "markdown",
   "metadata": {},
   "source": [
    "### Data: \n",
    "Yelp reviews on restaurants\n",
    "https://www.kaggle.com/c/yelp-recsys-2013/data?select=yelp_training_set.zip\n"
   ]
  },
  {
   "cell_type": "markdown",
   "metadata": {},
   "source": [
    "### Objective: \n",
    "To build a recommender system to select some restaurants that a reviewer may like, based on the aspects of the restaurants. <br><br>\n",
    "By looking at the ratings of a restaurant, we may know it is a good restaurant or not. However, we may not know how well a person will like the restaurant. Some people care more about the taste of their food. Some people care more about the service of the restaurant and some other people care more about the atmosphere. In this project, we will evaluate the restaurants’ aspects using sentiment analysis. Given a new review posted on Yelp, we can capture the aspects of the new review and make recommendations to the reviewer with restaurants with high average sentiment scores on these aspects.\n"
   ]
  },
  {
   "cell_type": "markdown",
   "metadata": {},
   "source": [
    "### Approach:\n",
    "* Clean up the text of each review.\n",
    "* For each review, separate the text into sentences.\n",
    "* Within each sentence, find the ADJ and NOUN pairs using POS\n",
    "* For each ADJ and NOUN pair, the NOUN is captured as an aspect and the ADJ will be used to calculate the sentiment score (1 for positive, 0 for neutral and -1 for negative)\n",
    "* Calculate the average sentiment scores for all captured aspects for each restaurant.\n",
    "* Given an unseen review, extract and select the aspects that are included both in the review and in the sentiment scores calculation\n",
    "* For the selected aspects, calculate the distance to the perfect sentiment scores ([1,1,1,….,1,1]) for each restaurant\n",
    "* The top restaurants with the lowest distance will be recommended to the reviewer\n",
    "* To evaluate the recommender system, we can compare the top reviews of the recommended restaurants and the newly posted review\n"
   ]
  }
 ],
 "metadata": {
  "kernelspec": {
   "display_name": "Python 3",
   "language": "python",
   "name": "python3"
  },
  "language_info": {
   "codemirror_mode": {
    "name": "ipython",
    "version": 3
   },
   "file_extension": ".py",
   "mimetype": "text/x-python",
   "name": "python",
   "nbconvert_exporter": "python",
   "pygments_lexer": "ipython3",
   "version": "3.8.10"
  }
 },
 "nbformat": 4,
 "nbformat_minor": 5
}
